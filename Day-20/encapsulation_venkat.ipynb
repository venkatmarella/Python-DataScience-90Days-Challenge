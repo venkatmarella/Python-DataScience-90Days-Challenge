{
 "cells": [
  {
   "cell_type": "markdown",
   "id": "10b000cc-b98e-4655-b06a-a303bc82f357",
   "metadata": {},
   "source": [
    "<h1> encapsulation <h1>"
   ]
  },
  {
   "cell_type": "code",
   "execution_count": 1,
   "id": "c55b241d-e38f-4af6-bb39-b357c8dc6c05",
   "metadata": {
    "tags": []
   },
   "outputs": [],
   "source": [
    "class login():\n",
    "    def details(self,username,password):\n",
    "        self.username = username\n",
    "        self.__password = password # private two underscore's\n",
    "        print(username)\n",
    "        print(password)"
   ]
  },
  {
   "cell_type": "code",
   "execution_count": 3,
   "id": "af744d0a-dee8-4014-9bab-a03ae58be559",
   "metadata": {
    "tags": []
   },
   "outputs": [],
   "source": [
    "x = login()"
   ]
  },
  {
   "cell_type": "code",
   "execution_count": 5,
   "id": "2e69b1e1-4b5b-451a-8b93-59080533345d",
   "metadata": {
    "tags": []
   },
   "outputs": [
    {
     "name": "stdout",
     "output_type": "stream",
     "text": [
      "venkat\n",
      "1234\n"
     ]
    }
   ],
   "source": [
    "x.details(\"venkat\", \"1234\")"
   ]
  },
  {
   "cell_type": "code",
   "execution_count": 6,
   "id": "540e9ea3-6f47-4963-877c-1793ac6b473f",
   "metadata": {
    "tags": []
   },
   "outputs": [
    {
     "name": "stdout",
     "output_type": "stream",
     "text": [
      "30\n",
      "This is a protected method\n"
     ]
    }
   ],
   "source": [
    "class MyClass:\n",
    "    def __init__(self):\n",
    "        self._protected_var = 30   \n",
    "\n",
    "    def _protected_method(self): # protected method\n",
    "        return \"This is a protected method\"\n",
    "\n",
    "class SubClass(MyClass):\n",
    "    def display(self):\n",
    "        print(self._protected_var)    \n",
    "        print(self._protected_method())  \n",
    "\n",
    "obj = SubClass()\n",
    "obj.display()"
   ]
  },
  {
   "cell_type": "code",
   "execution_count": 7,
   "id": "f1755e3a-e734-437b-ab82-beacc8208c87",
   "metadata": {
    "tags": []
   },
   "outputs": [],
   "source": [
    "y = MyClass()"
   ]
  },
  {
   "cell_type": "code",
   "execution_count": 8,
   "id": "b1dad3be-e3cc-46c2-a7ae-fc3f2485eada",
   "metadata": {
    "tags": []
   },
   "outputs": [
    {
     "data": {
      "text/plain": [
       "'This is a protected method'"
      ]
     },
     "execution_count": 8,
     "metadata": {},
     "output_type": "execute_result"
    }
   ],
   "source": [
    "y._protected_method()"
   ]
  },
  {
   "cell_type": "code",
   "execution_count": null,
   "id": "a86d62fc-4410-4087-a4f1-5becd62dd8ed",
   "metadata": {},
   "outputs": [],
   "source": []
  }
 ],
 "metadata": {
  "kernelspec": {
   "display_name": "Python 3 (ipykernel)",
   "language": "python",
   "name": "python3"
  },
  "language_info": {
   "codemirror_mode": {
    "name": "ipython",
    "version": 3
   },
   "file_extension": ".py",
   "mimetype": "text/x-python",
   "name": "python",
   "nbconvert_exporter": "python",
   "pygments_lexer": "ipython3",
   "version": "3.11.5"
  }
 },
 "nbformat": 4,
 "nbformat_minor": 5
}
