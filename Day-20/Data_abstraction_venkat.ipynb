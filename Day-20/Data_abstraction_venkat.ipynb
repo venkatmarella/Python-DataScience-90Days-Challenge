{
 "cells": [
  {
   "cell_type": "markdown",
   "id": "de74185e-4b94-43f2-a515-b756daa5fec9",
   "metadata": {},
   "source": [
    "<h1> Data Abstraction <h1>"
   ]
  },
  {
   "cell_type": "code",
   "execution_count": 1,
   "id": "99c07900-b5c5-4413-9691-39f889bdbfb9",
   "metadata": {
    "tags": []
   },
   "outputs": [],
   "source": [
    "from abc import ABC, abstractmethod\n",
    "\n",
    "class Shape(ABC):\n",
    "    @abstractmethod\n",
    "    def area(self):\n",
    "        pass\n",
    "\n",
    "class Circle(Shape):\n",
    "    def __init__(self, radius):\n",
    "        self.radius = radius\n",
    "\n",
    "    def area(self):\n",
    "        return 3.14 * self.radius * self.radius \n"
   ]
  },
  {
   "cell_type": "code",
   "execution_count": 2,
   "id": "745d77dc-740e-46b7-9dca-9c3273907b89",
   "metadata": {
    "tags": []
   },
   "outputs": [
    {
     "name": "stdout",
     "output_type": "stream",
     "text": [
      "78.5\n"
     ]
    }
   ],
   "source": [
    "c = Circle(5)\n",
    "print(c.area())"
   ]
  },
  {
   "cell_type": "code",
   "execution_count": 3,
   "id": "66b6b5ca-3a4a-47dc-80a6-1e8d82692c06",
   "metadata": {
    "tags": []
   },
   "outputs": [],
   "source": [
    "class Database(ABC):\n",
    "    @abstractmethod\n",
    "    def connect(self):\n",
    "        pass\n",
    "\n",
    "    @abstractmethod\n",
    "    def execute_query(self, query):\n",
    "        pass\n",
    "    "
   ]
  },
  {
   "cell_type": "code",
   "execution_count": 4,
   "id": "ffe5f62a-d3f0-4f7f-90bf-9d17354a91e7",
   "metadata": {
    "tags": []
   },
   "outputs": [],
   "source": [
    "class MySQL(Database):\n",
    "    def connect(self):\n",
    "        # Code to connect to MySQL database\n",
    "        pass\n",
    "\n",
    "    def execute_query(self, query):\n",
    "        # Code to execute a query in MySQL\n",
    "        pass"
   ]
  },
  {
   "cell_type": "code",
   "execution_count": 5,
   "id": "e3ea6cbc-458d-4d60-8ad5-25f9616b6aa2",
   "metadata": {
    "tags": []
   },
   "outputs": [],
   "source": [
    "mydata = MySQL()"
   ]
  },
  {
   "cell_type": "code",
   "execution_count": 6,
   "id": "011287ab-3a5a-4ca9-b72d-38967ca3861f",
   "metadata": {
    "tags": []
   },
   "outputs": [
    {
     "data": {
      "text/plain": [
       "<bound method MySQL.connect of <__main__.MySQL object at 0x110ea04d0>>"
      ]
     },
     "execution_count": 6,
     "metadata": {},
     "output_type": "execute_result"
    }
   ],
   "source": [
    "mydata.connect"
   ]
  },
  {
   "cell_type": "code",
   "execution_count": 10,
   "id": "c2323ebf-1ac1-4090-a640-974000f9c70b",
   "metadata": {
    "tags": []
   },
   "outputs": [
    {
     "data": {
      "text/plain": [
       "<bound method MySQL.execute_query of <__main__.MySQL object at 0x110ea04d0>>"
      ]
     },
     "execution_count": 10,
     "metadata": {},
     "output_type": "execute_result"
    }
   ],
   "source": [
    "mydata.execute_query"
   ]
  },
  {
   "cell_type": "code",
   "execution_count": 13,
   "id": "40f2487f-7984-44d0-8aa2-bc7e6d3011cc",
   "metadata": {
    "tags": []
   },
   "outputs": [],
   "source": [
    "class YouTube(ABC):\n",
    "    \n",
    "    @abstractmethod\n",
    "    def download(self):\n",
    "        print(\"download the data\")\n",
    "    \n",
    "    @abstractmethod\n",
    "    def play(self):\n",
    "        print(\"play the video\")\n",
    "        \n",
    "class TV(YouTube):\n",
    "    def play(self):\n",
    "        print(\"Play the video at 7PM\")\n",
    "    def download(self):\n",
    "        pass"
   ]
  },
  {
   "cell_type": "code",
   "execution_count": 15,
   "id": "ec1c3bf9-0a94-465b-8bb6-4e086bb69b75",
   "metadata": {
    "tags": []
   },
   "outputs": [],
   "source": [
    "chuchuTV = TV()"
   ]
  },
  {
   "cell_type": "code",
   "execution_count": 16,
   "id": "0faad339-207c-4169-85a8-63a3a0bf9805",
   "metadata": {
    "tags": []
   },
   "outputs": [
    {
     "name": "stdout",
     "output_type": "stream",
     "text": [
      "Play the movie at 7PM\n"
     ]
    }
   ],
   "source": [
    "chuchuTV.play()"
   ]
  },
  {
   "cell_type": "code",
   "execution_count": 17,
   "id": "9778af77-6715-49d5-914b-dbf19530cfbe",
   "metadata": {
    "tags": []
   },
   "outputs": [],
   "source": [
    "chuchuTV.download()"
   ]
  },
  {
   "cell_type": "code",
   "execution_count": null,
   "id": "6b6e1659-84df-4397-966b-acedfffef988",
   "metadata": {},
   "outputs": [],
   "source": []
  }
 ],
 "metadata": {
  "kernelspec": {
   "display_name": "Python 3 (ipykernel)",
   "language": "python",
   "name": "python3"
  },
  "language_info": {
   "codemirror_mode": {
    "name": "ipython",
    "version": 3
   },
   "file_extension": ".py",
   "mimetype": "text/x-python",
   "name": "python",
   "nbconvert_exporter": "python",
   "pygments_lexer": "ipython3",
   "version": "3.11.5"
  }
 },
 "nbformat": 4,
 "nbformat_minor": 5
}
