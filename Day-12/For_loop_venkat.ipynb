{
 "cells": [
  {
   "cell_type": "code",
   "execution_count": 1,
   "id": "27768d81-05e4-480e-8af4-fe0a37eea758",
   "metadata": {
    "tags": []
   },
   "outputs": [
    {
     "name": "stdout",
     "output_type": "stream",
     "text": [
      "0\n",
      "1\n",
      "2\n",
      "3\n",
      "4\n",
      "5\n",
      "6\n",
      "7\n",
      "8\n",
      "9\n"
     ]
    }
   ],
   "source": [
    "\"\"\"\n",
    "for i in somthing:\n",
    "    print(\"action\")\n",
    "\"\"\"\n",
    "for i in range(10):\n",
    "    print(i)"
   ]
  },
  {
   "cell_type": "code",
   "execution_count": 2,
   "id": "6a0290c1-fcd2-4565-9317-92b4903ae7b9",
   "metadata": {
    "tags": []
   },
   "outputs": [
    {
     "name": "stdout",
     "output_type": "stream",
     "text": [
      "45\n",
      "87\n",
      "67\n",
      "99\n",
      "97\n"
     ]
    }
   ],
   "source": [
    "list2 = [45,23,87,12,67,43,99,34,97]\n",
    "for i in list2:\n",
    "    if list2.index(i)%2==0:\n",
    "        print(i)"
   ]
  },
  {
   "cell_type": "code",
   "execution_count": 3,
   "id": "d61adac6-2729-4570-9aed-37470705df0e",
   "metadata": {
    "tags": []
   },
   "outputs": [
    {
     "name": "stdin",
     "output_type": "stream",
     "text": [
      "Enter your table number: 9\n"
     ]
    },
    {
     "name": "stdout",
     "output_type": "stream",
     "text": [
      "9 x 1 = 9\n",
      "9 x 2 = 18\n",
      "9 x 3 = 27\n",
      "9 x 4 = 36\n",
      "9 x 5 = 45\n",
      "9 x 6 = 54\n",
      "9 x 7 = 63\n",
      "9 x 8 = 72\n",
      "9 x 9 = 81\n",
      "9 x 10 = 90\n"
     ]
    }
   ],
   "source": [
    "table_num = int(input(\"Enter your table number:\"))\n",
    "for i in range(1,11):\n",
    "    print(table_num,\"x\",i,\"=\",table_num*i)"
   ]
  },
  {
   "cell_type": "code",
   "execution_count": 7,
   "id": "7f2d62ea-aa06-4e5d-b3b9-686099fb2c18",
   "metadata": {
    "tags": []
   },
   "outputs": [
    {
     "name": "stdin",
     "output_type": "stream",
     "text": [
      "enter number: 10\n"
     ]
    },
    {
     "name": "stdout",
     "output_type": "stream",
     "text": [
      "10 X 1 = 10\n",
      "10 X 2 = 20\n",
      "10 X 3 = 30\n",
      "10 X 4 = 40\n",
      "10 X 5 = 50\n",
      "10 X 6 = 60\n",
      "10 X 7 = 70\n",
      "10 X 8 = 80\n",
      "10 X 9 = 90\n",
      "10 X 10 = 100\n",
      "10 X 11 = 110\n",
      "10 X 12 = 120\n",
      "10 X 13 = 130\n",
      "10 X 14 = 140\n",
      "10 X 15 = 150\n",
      "10 X 16 = 160\n",
      "10 X 17 = 170\n",
      "10 X 18 = 180\n",
      "10 X 19 = 190\n",
      "10 X 20 = 200\n"
     ]
    }
   ],
   "source": [
    "#tables -- 2X1=2, 2X2=4, 2X3=6.... 2X10 = 20\n",
    "table = int(input(\"enter number:\"))\n",
    "for i in range(1,21):\n",
    "    print(table,\"X\",i,\"=\",i*table)"
   ]
  },
  {
   "cell_type": "code",
   "execution_count": 4,
   "id": "70bca010-949c-44e7-a057-beeb2bcd6ed9",
   "metadata": {
    "tags": []
   },
   "outputs": [
    {
     "name": "stdout",
     "output_type": "stream",
     "text": [
      "2\n",
      "4\n",
      "6\n",
      "8\n",
      "10\n"
     ]
    }
   ],
   "source": [
    "list1 = [1,2,3,4,5,6,7,8,9,10]\n",
    "#even values - num/2 = 0\n",
    "for i in list1:\n",
    "    if i%2==0:\n",
    "        print(i) #remainder operator(modulus %)"
   ]
  },
  {
   "cell_type": "code",
   "execution_count": 5,
   "id": "18d9c5f4-c988-4267-94e0-885c0b99168e",
   "metadata": {
    "tags": []
   },
   "outputs": [
    {
     "name": "stdout",
     "output_type": "stream",
     "text": [
      "2\n",
      "4\n",
      "6\n",
      "8\n",
      "10\n"
     ]
    }
   ],
   "source": [
    "numbers = [1,2,3,4,5]\n",
    "for i in numbers:\n",
    "    print(i+i)"
   ]
  },
  {
   "cell_type": "code",
   "execution_count": 6,
   "id": "96ee20ed-40fd-4afb-8a7e-a74c5118e987",
   "metadata": {
    "tags": []
   },
   "outputs": [
    {
     "name": "stdout",
     "output_type": "stream",
     "text": [
      "1\n",
      "odd\n",
      "-----\n",
      "2\n",
      "even\n",
      "-----\n",
      "3\n",
      "odd\n",
      "-----\n",
      "4\n",
      "even\n",
      "-----\n",
      "5\n",
      "odd\n",
      "-----\n",
      "6\n",
      "even\n",
      "-----\n",
      "7\n",
      "odd\n",
      "-----\n",
      "8\n",
      "even\n",
      "-----\n",
      "9\n",
      "odd\n",
      "-----\n",
      "10\n",
      "even\n",
      "-----\n",
      "11\n",
      "odd\n",
      "-----\n",
      "12\n",
      "even\n",
      "-----\n",
      "13\n",
      "odd\n",
      "-----\n",
      "14\n",
      "even\n",
      "-----\n",
      "15\n",
      "odd\n",
      "-----\n",
      "16\n",
      "even\n",
      "-----\n",
      "17\n",
      "odd\n",
      "-----\n",
      "18\n",
      "even\n",
      "-----\n",
      "19\n",
      "odd\n",
      "-----\n",
      "20\n",
      "even\n",
      "-----\n"
     ]
    }
   ],
   "source": [
    "numbers=[1,2,3,4,5,6,7,8,9,10,11,12,13,14,15,16,17,18,19,20]\n",
    "for i in numbers:\n",
    "    print(i)\n",
    "    if i%2==0:\n",
    "        print(\"even\")\n",
    "    else:\n",
    "        print(\"odd\")\n",
    "    print(\"-----\")\n"
   ]
  },
  {
   "cell_type": "code",
   "execution_count": 9,
   "id": "e4c074d0-8a56-48d1-8615-8b29fafb4e38",
   "metadata": {
    "tags": []
   },
   "outputs": [
    {
     "name": "stdin",
     "output_type": "stream",
     "text": [
      "enter your PIN: 1234\n"
     ]
    },
    {
     "name": "stdout",
     "output_type": "stream",
     "text": [
      "your chances: 9\n",
      "invalid pin, try again\n"
     ]
    },
    {
     "name": "stdin",
     "output_type": "stream",
     "text": [
      "enter your PIN: 1111\n"
     ]
    },
    {
     "name": "stdout",
     "output_type": "stream",
     "text": [
      "Welcome to bank\n",
      "Welcome to bank\n",
      "Welcome to bank\n",
      "Welcome to bank\n",
      "Welcome to bank\n",
      "Welcome to bank\n",
      "Welcome to bank\n",
      "Welcome to bank\n",
      "Welcome to bank\n"
     ]
    }
   ],
   "source": [
    "#ATM.... \n",
    "pin = int(input(\"enter your PIN:\"))\n",
    "#1111\n",
    "chance=10\n",
    "for i in range(1,11):\n",
    "    if pin == 1111:\n",
    "        print(\"Welcome to bank\")\n",
    "    else:\n",
    "        chance=chance-1\n",
    "        print(\"your chances:\",chance)\n",
    "        print(\"invalid pin, try again\")\n",
    "        pin = int(input(\"enter your PIN:\"))"
   ]
  },
  {
   "cell_type": "code",
   "execution_count": null,
   "id": "b92c6a70-d7ef-419d-b073-e44005d9bee8",
   "metadata": {},
   "outputs": [],
   "source": []
  }
 ],
 "metadata": {
  "kernelspec": {
   "display_name": "Python 3 (ipykernel)",
   "language": "python",
   "name": "python3"
  },
  "language_info": {
   "codemirror_mode": {
    "name": "ipython",
    "version": 3
   },
   "file_extension": ".py",
   "mimetype": "text/x-python",
   "name": "python",
   "nbconvert_exporter": "python",
   "pygments_lexer": "ipython3",
   "version": "3.11.5"
  }
 },
 "nbformat": 4,
 "nbformat_minor": 5
}
