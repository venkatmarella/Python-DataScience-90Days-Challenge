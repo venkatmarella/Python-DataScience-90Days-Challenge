{
 "cells": [
  {
   "cell_type": "markdown",
   "id": "456fe6c2-6d7c-4f25-9e48-fdf163ae9e67",
   "metadata": {},
   "source": [
    "<h1> File Handling"
   ]
  },
  {
   "cell_type": "markdown",
   "id": "028d014b-47ad-46e0-baf5-303f43990bdc",
   "metadata": {},
   "source": [
    "<h>file open and read<h>"
   ]
  },
  {
   "cell_type": "code",
   "execution_count": 12,
   "id": "a24e169d-a5d4-495e-9f24-7b5fcbfdb549",
   "metadata": {
    "tags": []
   },
   "outputs": [
    {
     "name": "stdout",
     "output_type": "stream",
     "text": [
      "Hello\n"
     ]
    }
   ],
   "source": [
    "file = open(\"python.txt\", \"r\")\n",
    "print(file.read(5))"
   ]
  },
  {
   "cell_type": "code",
   "execution_count": 19,
   "id": "25d20709-01a0-4f27-ac3e-7edae763feaf",
   "metadata": {
    "tags": []
   },
   "outputs": [
    {
     "name": "stdout",
     "output_type": "stream",
     "text": [
      "Hello my friend, this is python\n",
      "\n",
      "Here is multiline comments\n",
      "\n",
      "This is very important \n",
      "\n"
     ]
    }
   ],
   "source": [
    "file = open(\"python.txt\", \"r\")\n",
    "print(file.readline())\n",
    "print(file.readline())\n",
    "print(file.readline())"
   ]
  },
  {
   "cell_type": "code",
   "execution_count": 20,
   "id": "75347edb-e823-400f-aae1-00cd81e4820d",
   "metadata": {
    "tags": []
   },
   "outputs": [
    {
     "name": "stdout",
     "output_type": "stream",
     "text": [
      "Hello my friend, this is python\n",
      "\n",
      "Here is multiline comments\n",
      "\n",
      "This is very important \n",
      "\n"
     ]
    }
   ],
   "source": [
    "file = open(\"python.txt\", \"r\")\n",
    "for x in file:\n",
    "  print(x)\n"
   ]
  },
  {
   "cell_type": "code",
   "execution_count": 21,
   "id": "3037ffec-fb15-4a03-bd02-4e7bc6aeca86",
   "metadata": {
    "tags": []
   },
   "outputs": [
    {
     "name": "stdout",
     "output_type": "stream",
     "text": [
      "Hello my friend, this is python\n",
      "\n"
     ]
    }
   ],
   "source": [
    "file = open(\"python.txt\", \"r\")\n",
    "print(file.readline())\n",
    "file.close()"
   ]
  },
  {
   "cell_type": "code",
   "execution_count": null,
   "id": "22c41233-80d6-4aac-9c45-7ca17db84d9b",
   "metadata": {},
   "outputs": [],
   "source": []
  },
  {
   "cell_type": "markdown",
   "id": "c83eb8fc-cab5-4851-b8de-d5edb2d2ec82",
   "metadata": {},
   "source": [
    "<h>file write <h>"
   ]
  },
  {
   "cell_type": "code",
   "execution_count": 22,
   "id": "00ac9cc9-c61a-4ae6-92f7-7936739fde2f",
   "metadata": {
    "tags": []
   },
   "outputs": [],
   "source": [
    "file = open(\"python.txt\", \"a\")\n",
    "file.write(\"Now the file has more content!\")\n",
    "file.close()"
   ]
  },
  {
   "cell_type": "code",
   "execution_count": 23,
   "id": "b52a8e23-e03e-449e-bf69-a7786bcadff9",
   "metadata": {
    "tags": []
   },
   "outputs": [
    {
     "name": "stdout",
     "output_type": "stream",
     "text": [
      "Hello my friend, this is python\n",
      "\n",
      "Here is multiline comments\n",
      "\n",
      "This is very important \n",
      "\n",
      "Now the file has more content!\n"
     ]
    }
   ],
   "source": [
    "file = open(\"python.txt\", \"r\")\n",
    "for x in file:\n",
    "  print(x)"
   ]
  },
  {
   "cell_type": "code",
   "execution_count": 24,
   "id": "253d6687-e179-43f7-bc35-221b9f551db5",
   "metadata": {
    "tags": []
   },
   "outputs": [],
   "source": [
    "file = open(\"python2.txt\", \"w\") #create new file or if the file exist it delete the content and adds new one.\n",
    "file.write(\"Now the file has more content!\")\n",
    "file.close()"
   ]
  },
  {
   "cell_type": "code",
   "execution_count": 25,
   "id": "79080ca2-e06d-4917-84a1-4813bc3b7433",
   "metadata": {
    "tags": []
   },
   "outputs": [
    {
     "name": "stdout",
     "output_type": "stream",
     "text": [
      "Now the file has more content!\n"
     ]
    }
   ],
   "source": [
    "file = open(\"python2.txt\", \"r\")\n",
    "for x in file:\n",
    "  print(x)"
   ]
  },
  {
   "cell_type": "code",
   "execution_count": 26,
   "id": "b35cb64b-1786-4e6e-9403-111c2dc935db",
   "metadata": {
    "tags": []
   },
   "outputs": [],
   "source": [
    "file = open(\"python3.txt\", \"x\")"
   ]
  },
  {
   "cell_type": "code",
   "execution_count": null,
   "id": "b1fae7dd-6cc5-4c54-965e-99af9f5d7dbc",
   "metadata": {},
   "outputs": [],
   "source": []
  },
  {
   "cell_type": "markdown",
   "id": "56333655-0fdc-48f1-995d-76e569c4cda5",
   "metadata": {
    "tags": []
   },
   "source": [
    "<h> file delete <h>"
   ]
  },
  {
   "cell_type": "code",
   "execution_count": 28,
   "id": "bbf45fbc-74ee-40cb-ab02-2b914ce63241",
   "metadata": {
    "tags": []
   },
   "outputs": [],
   "source": [
    "#file delete need a module os\n",
    "import os\n",
    "os.remove(\"python3.txt\")"
   ]
  },
  {
   "cell_type": "code",
   "execution_count": 29,
   "id": "a2c116ba-2389-461c-a6c7-6bfca038d66f",
   "metadata": {
    "tags": []
   },
   "outputs": [
    {
     "name": "stdout",
     "output_type": "stream",
     "text": [
      "The file does not exist\n"
     ]
    }
   ],
   "source": [
    "import os\n",
    "if os.path.exists(\"python3.txt\"):\n",
    "  os.remove(\"python3.txt\")\n",
    "else:\n",
    "  print(\"The file does not exist\")"
   ]
  },
  {
   "cell_type": "code",
   "execution_count": 31,
   "id": "fa4eba45-8eb7-49b3-954a-bf1b993afc3d",
   "metadata": {
    "tags": []
   },
   "outputs": [
    {
     "name": "stdout",
     "output_type": "stream",
     "text": [
      "The file does not exist\n"
     ]
    }
   ],
   "source": [
    "import os\n",
    "if os.path.exists(\"python2.txt\"):\n",
    "  os.remove(\"python2.txt\")\n",
    "else:\n",
    "  print(\"The file does not exist\")"
   ]
  },
  {
   "cell_type": "code",
   "execution_count": 32,
   "id": "41dfd853-8bb8-4cfd-9954-24fb3121e858",
   "metadata": {
    "tags": []
   },
   "outputs": [],
   "source": [
    "import os\n",
    "os.rmdir(\"python-del\")"
   ]
  },
  {
   "cell_type": "code",
   "execution_count": null,
   "id": "31987a9a-d738-4699-ba3f-94de885e9c18",
   "metadata": {},
   "outputs": [],
   "source": []
  }
 ],
 "metadata": {
  "kernelspec": {
   "display_name": "Python 3 (ipykernel)",
   "language": "python",
   "name": "python3"
  },
  "language_info": {
   "codemirror_mode": {
    "name": "ipython",
    "version": 3
   },
   "file_extension": ".py",
   "mimetype": "text/x-python",
   "name": "python",
   "nbconvert_exporter": "python",
   "pygments_lexer": "ipython3",
   "version": "3.11.5"
  }
 },
 "nbformat": 4,
 "nbformat_minor": 5
}
