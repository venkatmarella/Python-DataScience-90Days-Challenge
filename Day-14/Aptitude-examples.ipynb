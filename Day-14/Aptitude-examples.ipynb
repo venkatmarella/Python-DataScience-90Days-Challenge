{
 "cells": [
  {
   "cell_type": "markdown",
   "id": "28d83197-51aa-4329-a94d-9729ed62a680",
   "metadata": {
    "tags": []
   },
   "source": [
    "<h>prime number<h>"
   ]
  },
  {
   "cell_type": "code",
   "execution_count": null,
   "id": "3adb4974-19a6-47b4-bf6d-14e73abdf513",
   "metadata": {},
   "outputs": [],
   "source": [
    "def prime_number(x):\n",
    "    if x <= 1:\n",
    "        print(x, \"is not a prime number\")\n",
    "    elif x > 1:\n",
    "       for i in range(2,x):\n",
    "           if (x % i) == 0:\n",
    "               print(x,\"is not a prime number\")\n",
    "               break\n",
    "       else:\n",
    "           print(x,\"is a prime number\")"
   ]
  },
  {
   "cell_type": "code",
   "execution_count": 19,
   "id": "91b400bd-aa5a-4095-8fdb-130151c44eba",
   "metadata": {
    "tags": []
   },
   "outputs": [
    {
     "name": "stdout",
     "output_type": "stream",
     "text": [
      "13 is a prime number\n"
     ]
    }
   ],
   "source": [
    "prime_number(13)"
   ]
  },
  {
   "cell_type": "code",
   "execution_count": 24,
   "id": "baa55645-8e88-4fab-a439-a611ea017e61",
   "metadata": {
    "tags": []
   },
   "outputs": [
    {
     "name": "stdout",
     "output_type": "stream",
     "text": [
      "100 is not a prime number\n"
     ]
    }
   ],
   "source": [
    "prime_number(100)"
   ]
  },
  {
   "cell_type": "code",
   "execution_count": null,
   "id": "5253858d-8d26-483b-b307-dda2ebbf73da",
   "metadata": {
    "tags": []
   },
   "outputs": [],
   "source": []
  },
  {
   "cell_type": "markdown",
   "id": "c328267a-6572-4a73-a1f4-eb0f0688df78",
   "metadata": {},
   "source": [
    "<h> profit and loss <h>"
   ]
  },
  {
   "cell_type": "code",
   "execution_count": 37,
   "id": "535d57bc-e658-4a88-a5dc-e93d2ecf638c",
   "metadata": {
    "tags": []
   },
   "outputs": [],
   "source": [
    "def Profit(totalcost, sellprice):\n",
    "    profit = (sellprice - totalcost)\n",
    "    print(profit)"
   ]
  },
  {
   "cell_type": "code",
   "execution_count": 36,
   "id": "904a978c-8704-4828-90f9-fa1b37cf6d22",
   "metadata": {
    "tags": []
   },
   "outputs": [],
   "source": [
    "Profit(100, 200)"
   ]
  },
  {
   "cell_type": "code",
   "execution_count": 39,
   "id": "7c8b7d94-e964-4c74-bc32-c1a35514b975",
   "metadata": {
    "tags": []
   },
   "outputs": [],
   "source": [
    "def Loss(totalcost, sellprice):\n",
    "    loss = (totalcost - sellprice)\n",
    "    print(loss)"
   ]
  },
  {
   "cell_type": "code",
   "execution_count": 41,
   "id": "0684a105-45c6-4c23-b7e0-d8e3af97fc56",
   "metadata": {
    "tags": []
   },
   "outputs": [
    {
     "name": "stdout",
     "output_type": "stream",
     "text": [
      "100\n"
     ]
    }
   ],
   "source": [
    "Loss(200, 100)"
   ]
  },
  {
   "cell_type": "code",
   "execution_count": null,
   "id": "e8518486-1c03-477d-b5ca-9df08c7b6fcc",
   "metadata": {},
   "outputs": [],
   "source": []
  },
  {
   "cell_type": "markdown",
   "id": "5d4f416a-13d9-42d5-8274-6348b8bf4ef6",
   "metadata": {},
   "source": [
    "<h>simple interest<h>"
   ]
  },
  {
   "cell_type": "code",
   "execution_count": 43,
   "id": "3e38f92d-12ea-4b2f-8086-2fea9abef6f5",
   "metadata": {
    "tags": []
   },
   "outputs": [],
   "source": [
    "def si(principal,timeperid,interstrate):\n",
    "     \n",
    "    simpleinterest = (principal * timeperid * interstrate)/100\n",
    "     \n",
    "    print(simpleinterest)"
   ]
  },
  {
   "cell_type": "code",
   "execution_count": 47,
   "id": "159c4dad-333f-4c4a-b460-4e7a13d9356b",
   "metadata": {
    "tags": []
   },
   "outputs": [
    {
     "name": "stdout",
     "output_type": "stream",
     "text": [
      "10.0\n"
     ]
    }
   ],
   "source": [
    "si(10,20,5)"
   ]
  },
  {
   "cell_type": "code",
   "execution_count": 46,
   "id": "80dc6af2-0336-4127-bad3-994b44a9c429",
   "metadata": {
    "tags": []
   },
   "outputs": [
    {
     "name": "stdout",
     "output_type": "stream",
     "text": [
      "6.0\n"
     ]
    }
   ],
   "source": [
    "si(100,2,3)"
   ]
  },
  {
   "cell_type": "code",
   "execution_count": 57,
   "id": "e2e97bef-7423-4773-9a66-2f66b9f1e4de",
   "metadata": {
    "tags": []
   },
   "outputs": [],
   "source": [
    "def func(x):\n",
    "    res=5\n",
    "    for i in range(x):\n",
    "        res+=i\n",
    "        return res"
   ]
  },
  {
   "cell_type": "code",
   "execution_count": 59,
   "id": "d228e5d6-03f7-4821-93ef-7fcf46006dfb",
   "metadata": {
    "tags": []
   },
   "outputs": [
    {
     "name": "stdout",
     "output_type": "stream",
     "text": [
      "5\n"
     ]
    }
   ],
   "source": [
    "print(func(4))"
   ]
  },
  {
   "cell_type": "code",
   "execution_count": null,
   "id": "cef456d5-de2a-4c27-a3f1-d6f23b3722da",
   "metadata": {},
   "outputs": [],
   "source": []
  },
  {
   "cell_type": "markdown",
   "id": "1e3faaa2-5c1a-454e-91ea-e1e1548aa8a1",
   "metadata": {},
   "source": [
    "<h> speed=time/distance <h>"
   ]
  },
  {
   "cell_type": "code",
   "execution_count": 60,
   "id": "c3f72a06-5fdf-46f0-9b64-37be3ff2c7be",
   "metadata": {
    "tags": []
   },
   "outputs": [],
   "source": [
    "def time(dist,total_time):\n",
    "    speed = dist/(total_time*60)\n",
    "    print(speed,\"m/sec\")\n",
    "    \n",
    "    print(speed*(18/5),\"km/hr\")"
   ]
  },
  {
   "cell_type": "code",
   "execution_count": 62,
   "id": "2396438f-9276-4f62-95e7-3ebd724036a6",
   "metadata": {
    "tags": []
   },
   "outputs": [
    {
     "name": "stdout",
     "output_type": "stream",
     "text": [
      "2.6666666666666665 m/sec\n",
      "9.6 km/hr\n"
     ]
    }
   ],
   "source": [
    "time(800,5)"
   ]
  },
  {
   "cell_type": "code",
   "execution_count": null,
   "id": "2f41343d-4aac-4c06-9a45-6700f7374fc3",
   "metadata": {},
   "outputs": [],
   "source": []
  },
  {
   "cell_type": "markdown",
   "id": "648996a1-73b1-4656-8c18-db4bb1a3fa50",
   "metadata": {},
   "source": [
    "<h> boats and streams <h>"
   ]
  },
  {
   "cell_type": "code",
   "execution_count": 63,
   "id": "eb8c8493-cacc-476b-a84f-d5878dc98a17",
   "metadata": {
    "tags": []
   },
   "outputs": [],
   "source": [
    "def boats(s_boat,s_water,t_distance,flow):\n",
    "    if flow=='d':\n",
    "        speed = s_boat+s_water\n",
    "        time = t_distance/speed\n",
    "        print(\"total time taken:\",time,\"km/hr\")\n",
    "    elif flow == 'u':\n",
    "        speed = s_boat-s_water\n",
    "        time = t_distance/speed\n",
    "        print(\"total time taken:\",time,\"km/hr\")\n",
    "    else:\n",
    "        print(\"Please use u- upward or d- downward\")"
   ]
  },
  {
   "cell_type": "code",
   "execution_count": 64,
   "id": "bb2386be-3532-4781-8be2-50ef664ab193",
   "metadata": {
    "tags": []
   },
   "outputs": [
    {
     "name": "stdout",
     "output_type": "stream",
     "text": [
      "total time taken: 3.0 km/hr\n"
     ]
    }
   ],
   "source": [
    "boats(50,10,180,'d')"
   ]
  },
  {
   "cell_type": "code",
   "execution_count": null,
   "id": "57844b7c-0ffc-4981-b31e-450ad311f729",
   "metadata": {},
   "outputs": [],
   "source": []
  },
  {
   "cell_type": "markdown",
   "id": "e90219e4-ad0a-4b31-ae53-77bb2cb164c4",
   "metadata": {
    "tags": []
   },
   "source": [
    "<h> formula - (a+b)**2 <h>"
   ]
  },
  {
   "cell_type": "code",
   "execution_count": 66,
   "id": "07585ad0-2ab0-47f3-86e0-8b2b71d380f0",
   "metadata": {
    "tags": []
   },
   "outputs": [],
   "source": [
    "#(a+b)**2 = a**2+b**2+2ab\n",
    "\n",
    "def absquare(a,b):\n",
    "    result = (a*a)+(b*b)+(2*a*b)\n",
    "    return result"
   ]
  },
  {
   "cell_type": "code",
   "execution_count": 67,
   "id": "a4ea7be6-a21f-41c1-a91d-e695243f083c",
   "metadata": {
    "tags": []
   },
   "outputs": [
    {
     "data": {
      "text/plain": [
       "25"
      ]
     },
     "execution_count": 67,
     "metadata": {},
     "output_type": "execute_result"
    }
   ],
   "source": [
    "absquare(2,3)"
   ]
  },
  {
   "cell_type": "code",
   "execution_count": null,
   "id": "12a7826e-7263-44cd-8407-d3bc3b1994c6",
   "metadata": {},
   "outputs": [],
   "source": []
  }
 ],
 "metadata": {
  "kernelspec": {
   "display_name": "Python 3 (ipykernel)",
   "language": "python",
   "name": "python3"
  },
  "language_info": {
   "codemirror_mode": {
    "name": "ipython",
    "version": 3
   },
   "file_extension": ".py",
   "mimetype": "text/x-python",
   "name": "python",
   "nbconvert_exporter": "python",
   "pygments_lexer": "ipython3",
   "version": "3.11.5"
  }
 },
 "nbformat": 4,
 "nbformat_minor": 5
}
