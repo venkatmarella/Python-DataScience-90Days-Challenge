{
 "cells": [
  {
   "cell_type": "code",
   "execution_count": 1,
   "id": "38f43a14-c659-4849-9fc0-5140049c24d8",
   "metadata": {
    "tags": []
   },
   "outputs": [],
   "source": [
    "#adding of 2 numbers\n",
    "def add(num1,num2):\n",
    "    print(num1+num2)"
   ]
  },
  {
   "cell_type": "code",
   "execution_count": 2,
   "id": "fe2ff26c-0df4-4a9b-bda0-77037d603a0d",
   "metadata": {
    "tags": []
   },
   "outputs": [
    {
     "name": "stdout",
     "output_type": "stream",
     "text": [
      "6\n"
     ]
    }
   ],
   "source": [
    "add(2,4)"
   ]
  },
  {
   "cell_type": "code",
   "execution_count": 3,
   "id": "2cc7d876-7170-4297-8735-a8da5de6e775",
   "metadata": {
    "tags": []
   },
   "outputs": [],
   "source": [
    "def Greet():\n",
    "    print(\"Hello Folks\")"
   ]
  },
  {
   "cell_type": "code",
   "execution_count": 4,
   "id": "dd2ba611-b8f6-42f6-874d-65a42937e00f",
   "metadata": {
    "tags": []
   },
   "outputs": [
    {
     "name": "stdout",
     "output_type": "stream",
     "text": [
      "Hello Folks\n"
     ]
    }
   ],
   "source": [
    "Greet()"
   ]
  },
  {
   "cell_type": "code",
   "execution_count": 5,
   "id": "031f3972-0095-4f77-9891-952485f5657f",
   "metadata": {
    "tags": []
   },
   "outputs": [],
   "source": [
    "def add(*num):\n",
    "    print(sum(num))"
   ]
  },
  {
   "cell_type": "code",
   "execution_count": 6,
   "id": "59eb6032-b4f3-48a4-bb60-f4bca1a21dce",
   "metadata": {
    "tags": []
   },
   "outputs": [
    {
     "name": "stdout",
     "output_type": "stream",
     "text": [
      "5\n"
     ]
    }
   ],
   "source": [
    "add(2,3)"
   ]
  },
  {
   "cell_type": "code",
   "execution_count": 7,
   "id": "ea70dc85-ea10-4862-a4a1-be166082c349",
   "metadata": {
    "tags": []
   },
   "outputs": [],
   "source": [
    "def table(*num):\n",
    "    for i in num:\n",
    "        for j in range(1,21):\n",
    "            print(i,' * ',j,\" = \",i*j)"
   ]
  },
  {
   "cell_type": "code",
   "execution_count": 8,
   "id": "a024aa1d-c2cf-4f5b-b11b-18b5541a890a",
   "metadata": {
    "tags": []
   },
   "outputs": [
    {
     "name": "stdout",
     "output_type": "stream",
     "text": [
      "10  *  1  =  10\n",
      "10  *  2  =  20\n",
      "10  *  3  =  30\n",
      "10  *  4  =  40\n",
      "10  *  5  =  50\n",
      "10  *  6  =  60\n",
      "10  *  7  =  70\n",
      "10  *  8  =  80\n",
      "10  *  9  =  90\n",
      "10  *  10  =  100\n",
      "10  *  11  =  110\n",
      "10  *  12  =  120\n",
      "10  *  13  =  130\n",
      "10  *  14  =  140\n",
      "10  *  15  =  150\n",
      "10  *  16  =  160\n",
      "10  *  17  =  170\n",
      "10  *  18  =  180\n",
      "10  *  19  =  190\n",
      "10  *  20  =  200\n"
     ]
    }
   ],
   "source": [
    "table(10)"
   ]
  },
  {
   "cell_type": "code",
   "execution_count": 10,
   "id": "02ef87b4-db35-453c-99b2-ca6579a6f137",
   "metadata": {
    "tags": []
   },
   "outputs": [],
   "source": [
    "def second_highest(*num):\n",
    "    print(num)\n",
    "    num1 = list(num)\n",
    "    num1.sort()\n",
    "    print(num1[-2])"
   ]
  },
  {
   "cell_type": "code",
   "execution_count": 12,
   "id": "3cc5ad4c-b647-44fa-9129-e8ec6c6d8857",
   "metadata": {
    "tags": []
   },
   "outputs": [
    {
     "name": "stdout",
     "output_type": "stream",
     "text": [
      "(10, 20, 32, 43)\n",
      "32\n"
     ]
    }
   ],
   "source": [
    "second_highest(10, 20, 32,43)"
   ]
  },
  {
   "cell_type": "code",
   "execution_count": 13,
   "id": "553659e3-e1ee-4cd3-ae6e-7182c4ef7ffb",
   "metadata": {
    "tags": []
   },
   "outputs": [],
   "source": [
    "#even number num%2==0\n",
    "\n",
    "def even(num):\n",
    "    if num%2==0:\n",
    "        print(\"The given number is even\")\n",
    "    else:\n",
    "        print(\"The given number is odd\")"
   ]
  },
  {
   "cell_type": "code",
   "execution_count": 14,
   "id": "ca4bcb88-5b88-435d-87d9-be44e96a09a1",
   "metadata": {
    "tags": []
   },
   "outputs": [
    {
     "name": "stdout",
     "output_type": "stream",
     "text": [
      "The given number is even\n"
     ]
    }
   ],
   "source": [
    "even(2)"
   ]
  },
  {
   "cell_type": "code",
   "execution_count": null,
   "id": "1351ef68-4a45-4e9a-85dd-8bf3d124ee78",
   "metadata": {},
   "outputs": [],
   "source": []
  }
 ],
 "metadata": {
  "kernelspec": {
   "display_name": "Python 3 (ipykernel)",
   "language": "python",
   "name": "python3"
  },
  "language_info": {
   "codemirror_mode": {
    "name": "ipython",
    "version": 3
   },
   "file_extension": ".py",
   "mimetype": "text/x-python",
   "name": "python",
   "nbconvert_exporter": "python",
   "pygments_lexer": "ipython3",
   "version": "3.11.5"
  }
 },
 "nbformat": 4,
 "nbformat_minor": 5
}
