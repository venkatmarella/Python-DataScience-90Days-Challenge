{
 "cells": [
  {
   "cell_type": "markdown",
   "id": "b98aa141-bb64-4fde-8dcc-8288915907f5",
   "metadata": {},
   "source": [
    "<h1>SET<h1>"
   ]
  },
  {
   "cell_type": "code",
   "execution_count": 1,
   "id": "19a6df03-75f2-4ca9-82c1-9abe5bf283ae",
   "metadata": {
    "tags": []
   },
   "outputs": [],
   "source": [
    "fruits = {\"apple\", \"banana\", \"cherry\"}"
   ]
  },
  {
   "cell_type": "code",
   "execution_count": 2,
   "id": "f8e241c3-84ce-40d4-8257-14cd954816f2",
   "metadata": {
    "tags": []
   },
   "outputs": [],
   "source": [
    "fruits.add(\"orange\")"
   ]
  },
  {
   "cell_type": "code",
   "execution_count": 3,
   "id": "b176570f-164a-418d-a698-6df27e161352",
   "metadata": {
    "tags": []
   },
   "outputs": [
    {
     "data": {
      "text/plain": [
       "{'apple', 'banana', 'cherry', 'orange'}"
      ]
     },
     "execution_count": 3,
     "metadata": {},
     "output_type": "execute_result"
    }
   ],
   "source": [
    "fruits"
   ]
  },
  {
   "cell_type": "code",
   "execution_count": 4,
   "id": "86b33688-964e-4a36-a42b-c1e2ddbd70de",
   "metadata": {
    "tags": []
   },
   "outputs": [],
   "source": [
    "fruits.clear()"
   ]
  },
  {
   "cell_type": "code",
   "execution_count": 5,
   "id": "416b1b9e-eaf6-4494-b340-6902663ce65a",
   "metadata": {
    "tags": []
   },
   "outputs": [
    {
     "data": {
      "text/plain": [
       "set()"
      ]
     },
     "execution_count": 5,
     "metadata": {},
     "output_type": "execute_result"
    }
   ],
   "source": [
    "fruits"
   ]
  },
  {
   "cell_type": "code",
   "execution_count": 6,
   "id": "d30b78e4-45e1-45ef-910e-9d6c503d18c3",
   "metadata": {
    "tags": []
   },
   "outputs": [],
   "source": [
    "fruits = {\"apple\", \"banana\", \"cherry\"}"
   ]
  },
  {
   "cell_type": "code",
   "execution_count": 7,
   "id": "f2239c31-4f0e-4051-9454-5478dfd96a2c",
   "metadata": {
    "tags": []
   },
   "outputs": [],
   "source": [
    "fruits_new = fruits.copy()"
   ]
  },
  {
   "cell_type": "code",
   "execution_count": 8,
   "id": "2de84c21-ac35-426c-9875-76ae8d2c40f7",
   "metadata": {
    "tags": []
   },
   "outputs": [
    {
     "data": {
      "text/plain": [
       "{'apple', 'banana', 'cherry'}"
      ]
     },
     "execution_count": 8,
     "metadata": {},
     "output_type": "execute_result"
    }
   ],
   "source": [
    "fruits_new"
   ]
  },
  {
   "cell_type": "code",
   "execution_count": 9,
   "id": "14e088a8-ceee-404d-b078-9532da2d0827",
   "metadata": {
    "tags": []
   },
   "outputs": [],
   "source": [
    "companies = {\"google\", \"microsoft\", \"apple\"}"
   ]
  },
  {
   "cell_type": "code",
   "execution_count": 10,
   "id": "d9bcacfb-e00e-4391-beb1-973d1d26c808",
   "metadata": {
    "tags": []
   },
   "outputs": [],
   "source": [
    "f_diff = fruits.difference(companies)"
   ]
  },
  {
   "cell_type": "code",
   "execution_count": 11,
   "id": "da0a3c31-58fc-4840-b328-918c96d4d09c",
   "metadata": {
    "tags": []
   },
   "outputs": [
    {
     "data": {
      "text/plain": [
       "{'banana', 'cherry'}"
      ]
     },
     "execution_count": 11,
     "metadata": {},
     "output_type": "execute_result"
    }
   ],
   "source": [
    "f_diff"
   ]
  },
  {
   "cell_type": "code",
   "execution_count": 12,
   "id": "b73f1d8a-3c85-4f48-85ad-dc3feca223b2",
   "metadata": {
    "tags": []
   },
   "outputs": [],
   "source": [
    "fruits.difference_update(companies)"
   ]
  },
  {
   "cell_type": "code",
   "execution_count": 13,
   "id": "83504646-2aaf-45b1-81b9-00c50f918077",
   "metadata": {
    "tags": []
   },
   "outputs": [
    {
     "data": {
      "text/plain": [
       "{'banana', 'cherry'}"
      ]
     },
     "execution_count": 13,
     "metadata": {},
     "output_type": "execute_result"
    }
   ],
   "source": [
    "fruits"
   ]
  },
  {
   "cell_type": "code",
   "execution_count": 21,
   "id": "30f9f8ec-489d-4d8b-9a3a-a7b444324d75",
   "metadata": {
    "tags": []
   },
   "outputs": [],
   "source": [
    "fruits = {\"apple\", \"banana\", \"cherry\"}\n"
   ]
  },
  {
   "cell_type": "code",
   "execution_count": 15,
   "id": "44c8abf7-abee-4844-859b-eb7c413922db",
   "metadata": {
    "tags": []
   },
   "outputs": [],
   "source": [
    "fruits.discard(\"cherry\")"
   ]
  },
  {
   "cell_type": "code",
   "execution_count": 16,
   "id": "81ca06dd-d992-4d1f-9810-37a383ead5aa",
   "metadata": {
    "tags": []
   },
   "outputs": [
    {
     "data": {
      "text/plain": [
       "{'apple', 'banana'}"
      ]
     },
     "execution_count": 16,
     "metadata": {},
     "output_type": "execute_result"
    }
   ],
   "source": [
    "fruits"
   ]
  },
  {
   "cell_type": "code",
   "execution_count": 17,
   "id": "b2b95798-9c30-46e0-a168-14c17e84908d",
   "metadata": {
    "tags": []
   },
   "outputs": [],
   "source": [
    "f_diff = fruits.intersection(companies)"
   ]
  },
  {
   "cell_type": "code",
   "execution_count": 18,
   "id": "0852f8c7-bc05-4f0f-b202-1eb4619278e3",
   "metadata": {
    "tags": []
   },
   "outputs": [
    {
     "data": {
      "text/plain": [
       "{'apple'}"
      ]
     },
     "execution_count": 18,
     "metadata": {},
     "output_type": "execute_result"
    }
   ],
   "source": [
    "f_diff"
   ]
  },
  {
   "cell_type": "code",
   "execution_count": 19,
   "id": "1f890a49-8ed1-4dbc-ba1b-0f75542f1c82",
   "metadata": {
    "tags": []
   },
   "outputs": [],
   "source": [
    "fruits.intersection_update(companies)"
   ]
  },
  {
   "cell_type": "code",
   "execution_count": 20,
   "id": "6fece7f5-72c1-4ee8-a833-bba0e4335846",
   "metadata": {
    "tags": []
   },
   "outputs": [
    {
     "data": {
      "text/plain": [
       "{'apple'}"
      ]
     },
     "execution_count": 20,
     "metadata": {},
     "output_type": "execute_result"
    }
   ],
   "source": [
    "fruits"
   ]
  },
  {
   "cell_type": "code",
   "execution_count": 22,
   "id": "a2654d5d-b068-462e-ad10-5a571cf0d4cb",
   "metadata": {
    "tags": []
   },
   "outputs": [
    {
     "data": {
      "text/plain": [
       "{'apple', 'banana', 'cherry'}"
      ]
     },
     "execution_count": 22,
     "metadata": {},
     "output_type": "execute_result"
    }
   ],
   "source": [
    "fruits"
   ]
  },
  {
   "cell_type": "code",
   "execution_count": 24,
   "id": "b2621a1b-47fd-41cf-9187-e22f9e614fd7",
   "metadata": {
    "tags": []
   },
   "outputs": [],
   "source": [
    "f_disjoin = fruits.isdisjoint(companies)"
   ]
  },
  {
   "cell_type": "code",
   "execution_count": 25,
   "id": "47568516-3c2d-43aa-8f0c-154c89b4608b",
   "metadata": {
    "tags": []
   },
   "outputs": [
    {
     "data": {
      "text/plain": [
       "False"
      ]
     },
     "execution_count": 25,
     "metadata": {},
     "output_type": "execute_result"
    }
   ],
   "source": [
    "f_disjoin"
   ]
  },
  {
   "cell_type": "code",
   "execution_count": 26,
   "id": "23facb49-f10b-4493-9cea-99e828870588",
   "metadata": {
    "tags": []
   },
   "outputs": [
    {
     "data": {
      "text/plain": [
       "{'apple', 'banana', 'cherry'}"
      ]
     },
     "execution_count": 26,
     "metadata": {},
     "output_type": "execute_result"
    }
   ],
   "source": [
    "fruits"
   ]
  },
  {
   "cell_type": "code",
   "execution_count": 27,
   "id": "def2845c-22c9-4f51-ac68-0c20ae4a4125",
   "metadata": {
    "tags": []
   },
   "outputs": [
    {
     "data": {
      "text/plain": [
       "{'apple', 'google', 'microsoft'}"
      ]
     },
     "execution_count": 27,
     "metadata": {},
     "output_type": "execute_result"
    }
   ],
   "source": [
    "companies"
   ]
  },
  {
   "cell_type": "code",
   "execution_count": 35,
   "id": "68afd71b-7daf-4384-a390-0a32c8d5c88a",
   "metadata": {
    "tags": []
   },
   "outputs": [],
   "source": [
    "companies1 = {\"microsoft\", \"google\", \"IBM\",\"apple\", \"banana\", \"cherry\"}"
   ]
  },
  {
   "cell_type": "code",
   "execution_count": 29,
   "id": "92b16b1b-54c2-4f9e-a5f8-b464df793b51",
   "metadata": {
    "tags": []
   },
   "outputs": [],
   "source": [
    "f_disjoin = fruits.isdisjoint(companies1)"
   ]
  },
  {
   "cell_type": "code",
   "execution_count": 30,
   "id": "06f81d40-0919-403f-b9e2-d46ebe97b98b",
   "metadata": {
    "tags": []
   },
   "outputs": [
    {
     "data": {
      "text/plain": [
       "True"
      ]
     },
     "execution_count": 30,
     "metadata": {},
     "output_type": "execute_result"
    }
   ],
   "source": [
    "f_disjoin"
   ]
  },
  {
   "cell_type": "code",
   "execution_count": 31,
   "id": "5bb04efb-01b6-4d45-b764-b6f33c6c46ff",
   "metadata": {
    "tags": []
   },
   "outputs": [],
   "source": [
    "f_subset = fruits.issubset(companies)"
   ]
  },
  {
   "cell_type": "code",
   "execution_count": 32,
   "id": "a02199cf-9b95-448f-8a21-f38db5117d6c",
   "metadata": {
    "tags": []
   },
   "outputs": [
    {
     "data": {
      "text/plain": [
       "False"
      ]
     },
     "execution_count": 32,
     "metadata": {},
     "output_type": "execute_result"
    }
   ],
   "source": [
    "f_subset"
   ]
  },
  {
   "cell_type": "code",
   "execution_count": 38,
   "id": "e9c9ca1c-d9f3-41a1-acda-4169254eda85",
   "metadata": {
    "tags": []
   },
   "outputs": [],
   "source": [
    "f_superset = fruits.issuperset(companies)"
   ]
  },
  {
   "cell_type": "code",
   "execution_count": 39,
   "id": "9746a815-37c6-4e46-bb71-dc7877068f61",
   "metadata": {
    "tags": []
   },
   "outputs": [
    {
     "data": {
      "text/plain": [
       "False"
      ]
     },
     "execution_count": 39,
     "metadata": {},
     "output_type": "execute_result"
    }
   ],
   "source": [
    "f_superset"
   ]
  },
  {
   "cell_type": "code",
   "execution_count": 40,
   "id": "4a7793b1-dec9-49c9-b971-c565477f4a26",
   "metadata": {
    "tags": []
   },
   "outputs": [],
   "source": [
    "f_superset = companies1.issuperset(companies)"
   ]
  },
  {
   "cell_type": "code",
   "execution_count": 41,
   "id": "f9578289-8457-46a7-a6fc-85d5ff50723e",
   "metadata": {
    "tags": []
   },
   "outputs": [
    {
     "data": {
      "text/plain": [
       "True"
      ]
     },
     "execution_count": 41,
     "metadata": {},
     "output_type": "execute_result"
    }
   ],
   "source": [
    "f_superset"
   ]
  },
  {
   "cell_type": "code",
   "execution_count": 42,
   "id": "940abc4a-2e64-4129-980e-b33a1216a55c",
   "metadata": {
    "tags": []
   },
   "outputs": [
    {
     "data": {
      "text/plain": [
       "'cherry'"
      ]
     },
     "execution_count": 42,
     "metadata": {},
     "output_type": "execute_result"
    }
   ],
   "source": [
    "fruits.pop()"
   ]
  },
  {
   "cell_type": "code",
   "execution_count": 43,
   "id": "c146b4ad-3cfc-41ec-9738-85688b198565",
   "metadata": {
    "tags": []
   },
   "outputs": [
    {
     "data": {
      "text/plain": [
       "{'apple', 'banana'}"
      ]
     },
     "execution_count": 43,
     "metadata": {},
     "output_type": "execute_result"
    }
   ],
   "source": [
    "fruits"
   ]
  },
  {
   "cell_type": "code",
   "execution_count": 44,
   "id": "82c688a2-c18c-4206-9ca1-2d37a09a395b",
   "metadata": {
    "tags": []
   },
   "outputs": [
    {
     "data": {
      "text/plain": [
       "'apple'"
      ]
     },
     "execution_count": 44,
     "metadata": {},
     "output_type": "execute_result"
    }
   ],
   "source": [
    "fruits.pop()"
   ]
  },
  {
   "cell_type": "code",
   "execution_count": 45,
   "id": "7e5f1d69-a719-41b2-a21d-05bf039a8b8e",
   "metadata": {
    "tags": []
   },
   "outputs": [
    {
     "data": {
      "text/plain": [
       "{'banana'}"
      ]
     },
     "execution_count": 45,
     "metadata": {},
     "output_type": "execute_result"
    }
   ],
   "source": [
    "fruits"
   ]
  },
  {
   "cell_type": "code",
   "execution_count": 46,
   "id": "8fbc3601-ddd7-4d26-854e-6d3bef95daa1",
   "metadata": {
    "tags": []
   },
   "outputs": [],
   "source": [
    "fruits = {\"apple\", \"banana\", \"cherry\"}"
   ]
  },
  {
   "cell_type": "code",
   "execution_count": 47,
   "id": "cc636c51-4e9d-4bbc-bcff-b6c635b8d5ee",
   "metadata": {
    "tags": []
   },
   "outputs": [],
   "source": [
    "fruits.remove(\"banana\")"
   ]
  },
  {
   "cell_type": "code",
   "execution_count": 48,
   "id": "43abb1e7-5506-4b86-9afb-13ce848a562d",
   "metadata": {
    "tags": []
   },
   "outputs": [
    {
     "data": {
      "text/plain": [
       "{'apple', 'cherry'}"
      ]
     },
     "execution_count": 48,
     "metadata": {},
     "output_type": "execute_result"
    }
   ],
   "source": [
    "fruits"
   ]
  },
  {
   "cell_type": "code",
   "execution_count": 49,
   "id": "facdde9d-ea73-4161-9cc3-af71575b797d",
   "metadata": {
    "tags": []
   },
   "outputs": [],
   "source": [
    "fruits = {\"apple\", \"banana\", \"cherry\"}"
   ]
  },
  {
   "cell_type": "code",
   "execution_count": 50,
   "id": "25f10cb0-0470-49fa-8e52-7e8227d54dff",
   "metadata": {
    "tags": []
   },
   "outputs": [],
   "source": [
    "f_fruits = fruits.symmetric_difference(companies)"
   ]
  },
  {
   "cell_type": "code",
   "execution_count": 51,
   "id": "480f850f-5ccd-41ef-abc1-70528668758a",
   "metadata": {
    "tags": []
   },
   "outputs": [
    {
     "data": {
      "text/plain": [
       "{'banana', 'cherry', 'google', 'microsoft'}"
      ]
     },
     "execution_count": 51,
     "metadata": {},
     "output_type": "execute_result"
    }
   ],
   "source": [
    "f_fruits"
   ]
  },
  {
   "cell_type": "code",
   "execution_count": 53,
   "id": "c267fa4d-8fe6-4ee7-bbca-6064351b693a",
   "metadata": {
    "tags": []
   },
   "outputs": [],
   "source": [
    "fruits.symmetric_difference_update(companies)"
   ]
  },
  {
   "cell_type": "code",
   "execution_count": 54,
   "id": "d3a044b0-83fc-46d4-a8f7-7b026598abbe",
   "metadata": {
    "tags": []
   },
   "outputs": [
    {
     "data": {
      "text/plain": [
       "{'banana', 'cherry', 'google', 'microsoft'}"
      ]
     },
     "execution_count": 54,
     "metadata": {},
     "output_type": "execute_result"
    }
   ],
   "source": [
    "fruits"
   ]
  },
  {
   "cell_type": "code",
   "execution_count": 55,
   "id": "d95ab3f9-a8be-4bd1-900a-cb5102af6484",
   "metadata": {
    "tags": []
   },
   "outputs": [],
   "source": [
    "fruits = {\"apple\", \"banana\", \"cherry\"}"
   ]
  },
  {
   "cell_type": "code",
   "execution_count": 56,
   "id": "786629ef-68bc-4aed-a98c-dd696615f083",
   "metadata": {
    "tags": []
   },
   "outputs": [],
   "source": [
    "f_union = fruits.union(companies)"
   ]
  },
  {
   "cell_type": "code",
   "execution_count": 57,
   "id": "c5a180c6-2c63-41ce-9d2a-4ad27c473fd9",
   "metadata": {
    "tags": []
   },
   "outputs": [
    {
     "data": {
      "text/plain": [
       "{'apple', 'banana', 'cherry', 'google', 'microsoft'}"
      ]
     },
     "execution_count": 57,
     "metadata": {},
     "output_type": "execute_result"
    }
   ],
   "source": [
    "f_union"
   ]
  },
  {
   "cell_type": "code",
   "execution_count": 58,
   "id": "f1728640-5102-4c81-9a93-67e651b0581d",
   "metadata": {
    "tags": []
   },
   "outputs": [],
   "source": [
    "fruits.update(companies)"
   ]
  },
  {
   "cell_type": "code",
   "execution_count": 59,
   "id": "36c3ca6b-2f5f-4126-9eaf-f5043b21c4e4",
   "metadata": {
    "tags": []
   },
   "outputs": [
    {
     "data": {
      "text/plain": [
       "{'apple', 'banana', 'cherry', 'google', 'microsoft'}"
      ]
     },
     "execution_count": 59,
     "metadata": {},
     "output_type": "execute_result"
    }
   ],
   "source": [
    "fruits"
   ]
  },
  {
   "cell_type": "code",
   "execution_count": null,
   "id": "d3af55cc-296d-45aa-ac23-891f89de9a09",
   "metadata": {},
   "outputs": [],
   "source": []
  }
 ],
 "metadata": {
  "kernelspec": {
   "display_name": "Python 3 (ipykernel)",
   "language": "python",
   "name": "python3"
  },
  "language_info": {
   "codemirror_mode": {
    "name": "ipython",
    "version": 3
   },
   "file_extension": ".py",
   "mimetype": "text/x-python",
   "name": "python",
   "nbconvert_exporter": "python",
   "pygments_lexer": "ipython3",
   "version": "3.11.5"
  }
 },
 "nbformat": 4,
 "nbformat_minor": 5
}
