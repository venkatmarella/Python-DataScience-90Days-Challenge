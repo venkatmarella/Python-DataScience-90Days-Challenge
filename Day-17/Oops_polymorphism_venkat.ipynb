{
 "cells": [
  {
   "cell_type": "markdown",
   "id": "fdf01fa8-fcf4-4c3b-a367-fbe66d36f8fd",
   "metadata": {
    "tags": []
   },
   "source": [
    "<h1>Method overriding:"
   ]
  },
  {
   "cell_type": "code",
   "execution_count": 2,
   "id": "9ba9674d-5360-43e5-992f-eacf11d9efed",
   "metadata": {
    "tags": []
   },
   "outputs": [],
   "source": [
    "class software_engineer:\n",
    "    def salary(self):\n",
    "        print(\"My salary is 25k\") # first 2 years\n",
    "class sen_software_engineer(software_engineer):\n",
    "    def salary(self,increment,years_exp,manager_points,current_salary):\n",
    "        self.increment = increment\n",
    "        self.years_exp = years_exp\n",
    "        self.manager_points = manager_points\n",
    "        self.current_salary = current_salary\n",
    "        total_salary = current_salary+(increment*manager_points)/100\n",
    "        print(\"My current salary is\",total_salary,\"k\") # after 2 years"
   ]
  },
  {
   "cell_type": "code",
   "execution_count": 3,
   "id": "89408821-e9ce-4e5c-abf7-936f7277995d",
   "metadata": {
    "tags": []
   },
   "outputs": [],
   "source": [
    "jr_engineer = software_engineer()"
   ]
  },
  {
   "cell_type": "code",
   "execution_count": 4,
   "id": "17f450ca-1f09-4402-aba0-0f11e577e3b6",
   "metadata": {
    "tags": []
   },
   "outputs": [
    {
     "name": "stdout",
     "output_type": "stream",
     "text": [
      "My salary is 25k\n"
     ]
    }
   ],
   "source": [
    "jr_engineer.salary()"
   ]
  },
  {
   "cell_type": "code",
   "execution_count": 5,
   "id": "a176ee56-145e-47d5-8b4c-4c2f55e4547e",
   "metadata": {
    "tags": []
   },
   "outputs": [],
   "source": [
    "sr_engineer = sen_software_engineer()"
   ]
  },
  {
   "cell_type": "code",
   "execution_count": 6,
   "id": "4bcfdefe-4dec-4f87-90ce-fa356b729839",
   "metadata": {
    "tags": []
   },
   "outputs": [
    {
     "name": "stdout",
     "output_type": "stream",
     "text": [
      "My current salary is 39500.0 k\n"
     ]
    }
   ],
   "source": [
    "sr_engineer.salary(5000,4,90,35000)"
   ]
  },
  {
   "cell_type": "code",
   "execution_count": 7,
   "id": "994c42a7-cde8-454e-827c-d2f8745a985a",
   "metadata": {
    "tags": []
   },
   "outputs": [],
   "source": [
    "class husband:\n",
    "    def house(self):\n",
    "        print(\"This is my house\")\n",
    "\n",
    "class wife(husband):\n",
    "    def house(self):\n",
    "        print(\"Thats our house\")"
   ]
  },
  {
   "cell_type": "code",
   "execution_count": 8,
   "id": "fb65d5a9-3fc9-4731-bb80-38e7ef9834f2",
   "metadata": {
    "tags": []
   },
   "outputs": [],
   "source": [
    "h = wife()"
   ]
  },
  {
   "cell_type": "code",
   "execution_count": 9,
   "id": "a7258ea3-ccd8-4903-81a6-bde409f0bad3",
   "metadata": {
    "tags": []
   },
   "outputs": [
    {
     "name": "stdout",
     "output_type": "stream",
     "text": [
      "Thats our house\n"
     ]
    }
   ],
   "source": [
    "h.house()"
   ]
  },
  {
   "cell_type": "code",
   "execution_count": 10,
   "id": "6d06a96e-875f-40a9-ad3a-5e8ca4fc44de",
   "metadata": {
    "tags": []
   },
   "outputs": [],
   "source": [
    "w = husband()"
   ]
  },
  {
   "cell_type": "code",
   "execution_count": 11,
   "id": "338dd6b9-9906-4225-bff3-b98037285078",
   "metadata": {
    "tags": []
   },
   "outputs": [
    {
     "name": "stdout",
     "output_type": "stream",
     "text": [
      "This is my house\n"
     ]
    }
   ],
   "source": [
    "w.house()"
   ]
  },
  {
   "cell_type": "code",
   "execution_count": null,
   "id": "fb3f8892-ff24-46c7-952a-0d5a17d24d52",
   "metadata": {},
   "outputs": [],
   "source": []
  },
  {
   "cell_type": "markdown",
   "id": "e7499f0a-317f-460b-8d9a-53ff13536ddd",
   "metadata": {},
   "source": [
    "<h1>Method overloading:"
   ]
  },
  {
   "cell_type": "code",
   "execution_count": 12,
   "id": "6c6dfba7-f19d-48a4-84cb-ad67049fe86e",
   "metadata": {
    "tags": []
   },
   "outputs": [
    {
     "name": "stdout",
     "output_type": "stream",
     "text": [
      "90\n"
     ]
    }
   ],
   "source": [
    "num1 = 34\n",
    "num1 = 55\n",
    "num1 = 89\n",
    "num1 = 90\n",
    "print(num1)"
   ]
  },
  {
   "cell_type": "code",
   "execution_count": 13,
   "id": "5a3bf9d9-35b4-42da-9776-6499fe9a2088",
   "metadata": {
    "tags": []
   },
   "outputs": [],
   "source": [
    "class maths:\n",
    "    def add(self,a,b):\n",
    "        print(a+b)\n",
    "        \n",
    "    def add(self,a,b,c):\n",
    "        print(a+b+c)\n",
    "        \n",
    "    def add(self,a,b,c,d):\n",
    "        print(a+b+c+d)"
   ]
  },
  {
   "cell_type": "code",
   "execution_count": 14,
   "id": "d4e1f8e1-5338-4225-a852-c5710dea6e08",
   "metadata": {
    "tags": []
   },
   "outputs": [],
   "source": [
    "cal = maths()"
   ]
  },
  {
   "cell_type": "code",
   "execution_count": 15,
   "id": "74239628-9389-4d54-9faa-a949f4a6d32a",
   "metadata": {
    "tags": []
   },
   "outputs": [
    {
     "ename": "TypeError",
     "evalue": "maths.add() missing 2 required positional arguments: 'c' and 'd'",
     "output_type": "error",
     "traceback": [
      "\u001b[0;31m---------------------------------------------------------------------------\u001b[0m",
      "\u001b[0;31mTypeError\u001b[0m                                 Traceback (most recent call last)",
      "Cell \u001b[0;32mIn[15], line 1\u001b[0m\n\u001b[0;32m----> 1\u001b[0m cal\u001b[38;5;241m.\u001b[39madd(\u001b[38;5;241m10\u001b[39m,\u001b[38;5;241m20\u001b[39m)\n",
      "\u001b[0;31mTypeError\u001b[0m: maths.add() missing 2 required positional arguments: 'c' and 'd'"
     ]
    }
   ],
   "source": [
    "cal.add(10,20)"
   ]
  },
  {
   "cell_type": "code",
   "execution_count": 16,
   "id": "6e15f0e1-9b42-4d5f-9002-63e5a7e2e379",
   "metadata": {
    "tags": []
   },
   "outputs": [
    {
     "name": "stdout",
     "output_type": "stream",
     "text": [
      "100\n"
     ]
    }
   ],
   "source": [
    "cal.add(10,20,30,40)"
   ]
  },
  {
   "cell_type": "code",
   "execution_count": null,
   "id": "4a2ed522-4dec-4067-a359-16189a9f3502",
   "metadata": {},
   "outputs": [],
   "source": []
  }
 ],
 "metadata": {
  "kernelspec": {
   "display_name": "Python 3 (ipykernel)",
   "language": "python",
   "name": "python3"
  },
  "language_info": {
   "codemirror_mode": {
    "name": "ipython",
    "version": 3
   },
   "file_extension": ".py",
   "mimetype": "text/x-python",
   "name": "python",
   "nbconvert_exporter": "python",
   "pygments_lexer": "ipython3",
   "version": "3.11.5"
  }
 },
 "nbformat": 4,
 "nbformat_minor": 5
}
