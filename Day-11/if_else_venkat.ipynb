{
 "cells": [
  {
   "cell_type": "code",
   "execution_count": 2,
   "id": "bdb114ca-04bf-4ef6-9b99-ede19176e4b6",
   "metadata": {
    "tags": []
   },
   "outputs": [
    {
     "name": "stdin",
     "output_type": "stream",
     "text": [
      "Enter your marks: -20\n"
     ]
    },
    {
     "name": "stdout",
     "output_type": "stream",
     "text": [
      "Enter valid Marks(0-100)\n"
     ]
    }
   ],
   "source": [
    "marks = int(input(\"Enter your marks:\"))\n",
    "if marks>=35 and marks<=100:\n",
    "    print(\"pass\")\n",
    "elif marks>=101 or marks<0:\n",
    "    print(\"Enter valid Marks(0-100)\")\n",
    "else:\n",
    "    print(\"fail\")"
   ]
  },
  {
   "cell_type": "code",
   "execution_count": 3,
   "id": "f85865f7-0aa3-4ba2-b5e0-12946e41be43",
   "metadata": {
    "tags": []
   },
   "outputs": [
    {
     "name": "stdout",
     "output_type": "stream",
     "text": [
      "That's my number\n"
     ]
    }
   ],
   "source": [
    "# list of values\n",
    "numbers = [1,4,7,23,65,88,12,99,456,789,234]\n",
    "#Search for my lucky number in that list\n",
    "lucky_number = 99\n",
    "if numbers[7] == lucky_number:\n",
    "    print(\"That's my number\")\n",
    "else:\n",
    "    print(\"Better luck next time\")"
   ]
  },
  {
   "cell_type": "code",
   "execution_count": 4,
   "id": "2cb2d68e-d0e2-4883-a649-173bac48562a",
   "metadata": {
    "tags": []
   },
   "outputs": [
    {
     "name": "stdin",
     "output_type": "stream",
     "text": [
      "Enter the number 23\n"
     ]
    },
    {
     "name": "stdout",
     "output_type": "stream",
     "text": [
      "Better luck next time\n"
     ]
    }
   ],
   "source": [
    "# list of values\n",
    "numbers = [1,4,7,23,65,88,12,99,456,789,234]\n",
    "#Search for my lucky number in that list\n",
    "lucky_number = int(input(\"Enter the number\"))\n",
    "if numbers[7] == lucky_number:\n",
    "    print(\"That's my number\")\n",
    "else:\n",
    "    print(\"Better luck next time\")"
   ]
  },
  {
   "cell_type": "code",
   "execution_count": 5,
   "id": "c7be4958-093b-4dbe-893c-f01e6990f6a8",
   "metadata": {
    "tags": []
   },
   "outputs": [
    {
     "name": "stdout",
     "output_type": "stream",
     "text": [
      "invalid number\n"
     ]
    }
   ],
   "source": [
    "science = 550\n",
    "physics = 66\n",
    "maths = 77\n",
    "if (science>=35 and maths>=35 and physics>=35) and (science<=100 and maths<=100 and physics<=100):\n",
    "    print(\"pass\")\n",
    "\n",
    "elif (science<0 or maths<0 or physics<0) or (science>=101 or maths>=101 or physics>=101):\n",
    "    print(\"invalid number\")\n",
    "    \n",
    "else:\n",
    "    print(\"fail\")"
   ]
  },
  {
   "cell_type": "code",
   "execution_count": 7,
   "id": "d805a92f-8b0c-486a-838d-a47b4e8c5720",
   "metadata": {
    "tags": []
   },
   "outputs": [
    {
     "name": "stdin",
     "output_type": "stream",
     "text": [
      "Enter your pin: 1122\n"
     ]
    },
    {
     "name": "stdout",
     "output_type": "stream",
     "text": [
      "welcome to python bank\n",
      "1.Balance Check\n",
      "2.Withdraw\n",
      "3.Deposit\n",
      "4.Help\n"
     ]
    },
    {
     "name": "stdin",
     "output_type": "stream",
     "text": [
      "Enter your option: 1\n"
     ]
    },
    {
     "name": "stdout",
     "output_type": "stream",
     "text": [
      "Your balance: 30000\n"
     ]
    }
   ],
   "source": [
    "#1. Update ATM to ignore negetive inputs, check for any updaes\n",
    "pin = int(input(\"Enter your pin:\")) #1122\n",
    "balance = 30000\n",
    "if pin == 1122:\n",
    "    print(\"welcome to python bank\")\n",
    "    print(\"1.Balance Check\")\n",
    "    print(\"2.Withdraw\")\n",
    "    print(\"3.Deposit\")\n",
    "    print(\"4.Help\")\n",
    "    option = int(input(\"Enter your option:\"))\n",
    "    if option==1:\n",
    "        print(\"Your balance:\",balance)\n",
    "        \n",
    "    elif option == 2:\n",
    "        w_amount = int(input(\"Enter withdraw amount\"))\n",
    "        if w_amount<balance and w_amount>=0:\n",
    "            balance = balance - w_amount\n",
    "            print(\"Your updated balance:\",balance)\n",
    "        else:\n",
    "            print(\"nagative number entered or Insufficient balance\",balance)\n",
    "\n",
    "    elif option == 3:\n",
    "        d_amount = int(input(\"Enter deposit amount\"))\n",
    "        if d_amount < 100000 and d_amount>=0:\n",
    "            balance = balance + d_amount\n",
    "            print(\"Your updated balance:\",balance)\n",
    "        else:\n",
    "            print(\"nagative number entered  or Daily limit reached(100000)\")\n",
    "        \n",
    "    elif option == 4:\n",
    "        print(\"9876543210\")\n",
    "    else:\n",
    "        print(\"Invalid option\")\n",
    "    \n",
    "else:\n",
    "    print(\"Incorrect PIN number\")"
   ]
  },
  {
   "cell_type": "code",
   "execution_count": null,
   "id": "e4dda967-a00c-43d8-aab0-a7c0c79ae338",
   "metadata": {},
   "outputs": [],
   "source": []
  }
 ],
 "metadata": {
  "kernelspec": {
   "display_name": "Python 3 (ipykernel)",
   "language": "python",
   "name": "python3"
  },
  "language_info": {
   "codemirror_mode": {
    "name": "ipython",
    "version": 3
   },
   "file_extension": ".py",
   "mimetype": "text/x-python",
   "name": "python",
   "nbconvert_exporter": "python",
   "pygments_lexer": "ipython3",
   "version": "3.11.5"
  }
 },
 "nbformat": 4,
 "nbformat_minor": 5
}
