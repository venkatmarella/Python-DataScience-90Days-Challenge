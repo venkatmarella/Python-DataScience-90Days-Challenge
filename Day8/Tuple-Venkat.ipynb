{
 "cells": [
  {
   "cell_type": "markdown",
   "id": "e3d63415-a3da-454b-beaf-5958c1f97c79",
   "metadata": {
    "tags": []
   },
   "source": [
    "<h1>Tuple<h1>"
   ]
  },
  {
   "cell_type": "code",
   "execution_count": 3,
   "id": "4d960c4e-2d45-4606-b1ed-91753008e6f5",
   "metadata": {
    "tags": []
   },
   "outputs": [],
   "source": [
    "states=(\"Arizona\",\"Alabama\",\"Illinois\",\"Texas\",\"California\")"
   ]
  },
  {
   "cell_type": "code",
   "execution_count": 4,
   "id": "d8d74853-ed68-4fa5-a64b-bb9a6f898737",
   "metadata": {
    "tags": []
   },
   "outputs": [
    {
     "data": {
      "text/plain": [
       "('Arizona', 'Alabama', 'Illinois', 'Texas', 'California')"
      ]
     },
     "execution_count": 4,
     "metadata": {},
     "output_type": "execute_result"
    }
   ],
   "source": [
    "states"
   ]
  },
  {
   "cell_type": "code",
   "execution_count": 5,
   "id": "fa3cb870-02b5-43bb-84e1-4b8fb136cf5a",
   "metadata": {
    "tags": []
   },
   "outputs": [
    {
     "data": {
      "text/plain": [
       "tuple"
      ]
     },
     "execution_count": 5,
     "metadata": {},
     "output_type": "execute_result"
    }
   ],
   "source": [
    "type(states)"
   ]
  },
  {
   "cell_type": "code",
   "execution_count": 6,
   "id": "a9302dc7-eab2-497d-87c1-768380f1ac9a",
   "metadata": {
    "tags": []
   },
   "outputs": [
    {
     "data": {
      "text/plain": [
       "'Arizona'"
      ]
     },
     "execution_count": 6,
     "metadata": {},
     "output_type": "execute_result"
    }
   ],
   "source": [
    "states[0]"
   ]
  },
  {
   "cell_type": "code",
   "execution_count": 7,
   "id": "5e1c7c93-51ea-41d0-934f-da692aed7da6",
   "metadata": {
    "tags": []
   },
   "outputs": [
    {
     "data": {
      "text/plain": [
       "5"
      ]
     },
     "execution_count": 7,
     "metadata": {},
     "output_type": "execute_result"
    }
   ],
   "source": [
    "len(states) # Tuple length"
   ]
  },
  {
   "cell_type": "code",
   "execution_count": 8,
   "id": "66c802be-5c35-4e7c-8a77-418270b5f92b",
   "metadata": {
    "tags": []
   },
   "outputs": [
    {
     "data": {
      "text/plain": [
       "'California'"
      ]
     },
     "execution_count": 8,
     "metadata": {},
     "output_type": "execute_result"
    }
   ],
   "source": [
    "states[-1]"
   ]
  },
  {
   "cell_type": "code",
   "execution_count": 9,
   "id": "3aa21a58-7d01-40be-8046-c7e07d92d2ba",
   "metadata": {
    "tags": []
   },
   "outputs": [
    {
     "data": {
      "text/plain": [
       "('Alabama', 'Illinois')"
      ]
     },
     "execution_count": 9,
     "metadata": {},
     "output_type": "execute_result"
    }
   ],
   "source": [
    "states[1:3]"
   ]
  },
  {
   "cell_type": "code",
   "execution_count": 10,
   "id": "43360761-13b1-4c4f-a8d9-b25f4b39e423",
   "metadata": {
    "tags": []
   },
   "outputs": [
    {
     "name": "stdout",
     "output_type": "stream",
     "text": [
      "('a', 'b', 'c', 1, 2, 3)\n"
     ]
    }
   ],
   "source": [
    "tuple1 = (\"a\", \"b\" , \"c\") \n",
    "tuple2 = (1, 2, 3)\n",
    "\n",
    "tuple3 = tuple1 + tuple2 # Tuple Join\n",
    "print(tuple3)"
   ]
  },
  {
   "cell_type": "code",
   "execution_count": 11,
   "id": "74569ae6-d120-4552-91f7-0d9fd0b0d3da",
   "metadata": {
    "tags": []
   },
   "outputs": [
    {
     "name": "stdout",
     "output_type": "stream",
     "text": [
      "('apple', 'kiwi', 'cherry')\n"
     ]
    }
   ],
   "source": [
    "x = (\"apple\", \"banana\", \"cherry\") # update tuple\n",
    "y = list(x)\n",
    "y[1] = \"kiwi\"\n",
    "x = tuple(y)\n",
    "\n",
    "print(x)"
   ]
  },
  {
   "cell_type": "code",
   "execution_count": 23,
   "id": "cb4dff8e-7c28-414c-a4b0-bb03b9006335",
   "metadata": {
    "tags": []
   },
   "outputs": [
    {
     "name": "stdout",
     "output_type": "stream",
     "text": [
      "apple\n",
      "banana\n",
      "cherry\n"
     ]
    }
   ],
   "source": [
    "fruits = (\"apple\", \"banana\", \"cherry\") # unpack tuple\n",
    "\n",
    "(green, yellow, red) = fruits\n",
    "\n",
    "print(green)\n",
    "print(yellow)\n",
    "print(red)"
   ]
  },
  {
   "cell_type": "markdown",
   "id": "03b5142b-3f08-4081-b388-34032acff80b",
   "metadata": {},
   "source": [
    "<h1>Tuple Methods<h1>"
   ]
  },
  {
   "cell_type": "code",
   "execution_count": 15,
   "id": "dc78c9d9-896a-45f4-a11e-0eef8ea5c7d4",
   "metadata": {
    "tags": []
   },
   "outputs": [],
   "source": [
    "z = x.count(\"apple\") # count method"
   ]
  },
  {
   "cell_type": "code",
   "execution_count": 16,
   "id": "4bfd8e8a-ebc8-47ec-b7ff-3abbcb35d56f",
   "metadata": {
    "tags": []
   },
   "outputs": [
    {
     "data": {
      "text/plain": [
       "1"
      ]
     },
     "execution_count": 16,
     "metadata": {},
     "output_type": "execute_result"
    }
   ],
   "source": [
    "z"
   ]
  },
  {
   "cell_type": "code",
   "execution_count": 21,
   "id": "8baee7e1-f716-45a0-aeb8-645ab3ebb3ca",
   "metadata": {
    "tags": []
   },
   "outputs": [],
   "source": [
    "z1 = x.index(\"kiwi\") # index method"
   ]
  },
  {
   "cell_type": "code",
   "execution_count": 22,
   "id": "bfc6b3e8-2a1c-4127-a113-b28836d8ff1a",
   "metadata": {
    "tags": []
   },
   "outputs": [
    {
     "data": {
      "text/plain": [
       "1"
      ]
     },
     "execution_count": 22,
     "metadata": {},
     "output_type": "execute_result"
    }
   ],
   "source": [
    "z1"
   ]
  },
  {
   "cell_type": "code",
   "execution_count": null,
   "id": "7b10cbe1-dd7f-4f85-a940-a7cbf0d0c7d4",
   "metadata": {},
   "outputs": [],
   "source": []
  }
 ],
 "metadata": {
  "kernelspec": {
   "display_name": "Python 3 (ipykernel)",
   "language": "python",
   "name": "python3"
  },
  "language_info": {
   "codemirror_mode": {
    "name": "ipython",
    "version": 3
   },
   "file_extension": ".py",
   "mimetype": "text/x-python",
   "name": "python",
   "nbconvert_exporter": "python",
   "pygments_lexer": "ipython3",
   "version": "3.11.5"
  }
 },
 "nbformat": 4,
 "nbformat_minor": 5
}
