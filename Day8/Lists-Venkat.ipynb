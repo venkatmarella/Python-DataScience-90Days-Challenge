{
 "cells": [
  {
   "cell_type": "markdown",
   "id": "370256f7-265b-45d3-bc17-4f86ee71c549",
   "metadata": {},
   "source": [
    "<h1>Lists</h1>\n",
    "[ ]"
   ]
  },
  {
   "cell_type": "code",
   "execution_count": 1,
   "id": "1bb4c547-b171-4709-84b0-91aa3c3fe35a",
   "metadata": {},
   "outputs": [],
   "source": [
    "names = [\"venkat\", 98989, 33.4]"
   ]
  },
  {
   "cell_type": "code",
   "execution_count": 2,
   "id": "9f657d08-d95a-4cd1-b06e-5bb1bfa6e16e",
   "metadata": {},
   "outputs": [
    {
     "data": {
      "text/plain": [
       "['venkat', 98989, 33.4]"
      ]
     },
     "execution_count": 2,
     "metadata": {},
     "output_type": "execute_result"
    }
   ],
   "source": [
    "names"
   ]
  },
  {
   "cell_type": "code",
   "execution_count": 3,
   "id": "3da80c42-f407-4036-ad76-31a5f4c5e8ce",
   "metadata": {},
   "outputs": [
    {
     "data": {
      "text/plain": [
       "list"
      ]
     },
     "execution_count": 3,
     "metadata": {},
     "output_type": "execute_result"
    }
   ],
   "source": [
    "type(names)"
   ]
  },
  {
   "cell_type": "code",
   "execution_count": 4,
   "id": "cee9949f-2756-490c-9007-74c2e010ad49",
   "metadata": {},
   "outputs": [
    {
     "data": {
      "text/plain": [
       "'venkat'"
      ]
     },
     "execution_count": 4,
     "metadata": {},
     "output_type": "execute_result"
    }
   ],
   "source": [
    "names[0]"
   ]
  },
  {
   "cell_type": "code",
   "execution_count": 6,
   "id": "0ce2bb17-dfa1-427a-b30d-549e231d7636",
   "metadata": {},
   "outputs": [
    {
     "data": {
      "text/plain": [
       "['venkat', 98989]"
      ]
     },
     "execution_count": 6,
     "metadata": {},
     "output_type": "execute_result"
    }
   ],
   "source": [
    "names[0:2] # slicing starts with zero and ends with n-1"
   ]
  },
  {
   "cell_type": "code",
   "execution_count": 7,
   "id": "d8f2c250-b865-473b-8c1b-c7b46af6e609",
   "metadata": {},
   "outputs": [
    {
     "data": {
      "text/plain": [
       "['venkat', 98989, 33.4]"
      ]
     },
     "execution_count": 7,
     "metadata": {},
     "output_type": "execute_result"
    }
   ],
   "source": [
    "names[0:]"
   ]
  },
  {
   "cell_type": "code",
   "execution_count": 8,
   "id": "65b3c434-5133-4e8c-99bb-636b31a5fa47",
   "metadata": {},
   "outputs": [
    {
     "data": {
      "text/plain": [
       "[]"
      ]
     },
     "execution_count": 8,
     "metadata": {},
     "output_type": "execute_result"
    }
   ],
   "source": [
    "names[:0]"
   ]
  },
  {
   "cell_type": "code",
   "execution_count": 9,
   "id": "98d134d3-89fa-4710-8317-21d949e207c7",
   "metadata": {},
   "outputs": [
    {
     "data": {
      "text/plain": [
       "['venkat', 98989]"
      ]
     },
     "execution_count": 9,
     "metadata": {},
     "output_type": "execute_result"
    }
   ],
   "source": [
    "names[:-1] #negative indexing & slice 5 examples - assignments"
   ]
  },
  {
   "cell_type": "code",
   "execution_count": 10,
   "id": "c2871aca-400d-4e15-ae70-58b9444d15d6",
   "metadata": {},
   "outputs": [
    {
     "data": {
      "text/plain": [
       "[33.4]"
      ]
     },
     "execution_count": 10,
     "metadata": {},
     "output_type": "execute_result"
    }
   ],
   "source": [
    "names[-1:]"
   ]
  },
  {
   "cell_type": "code",
   "execution_count": null,
   "id": "9a91f623-f583-436f-9ce8-96d762a1e247",
   "metadata": {},
   "outputs": [],
   "source": []
  },
  {
   "cell_type": "code",
   "execution_count": null,
   "id": "26918cee-1d34-45c3-abb9-e1c74ebbdcab",
   "metadata": {},
   "outputs": [],
   "source": []
  },
  {
   "cell_type": "code",
   "execution_count": 13,
   "id": "bc269658-646c-4492-9cd4-3c6326b973e8",
   "metadata": {},
   "outputs": [],
   "source": [
    "### negative indexing & slice 5 examples - assignments\n"
   ]
  },
  {
   "cell_type": "code",
   "execution_count": 14,
   "id": "2a0116bb-7a6e-47d1-8a71-85ace7f2a085",
   "metadata": {},
   "outputs": [],
   "source": [
    "details = [\"altcontrol\", 33, 101.41, True]"
   ]
  },
  {
   "cell_type": "code",
   "execution_count": 15,
   "id": "511ae301-38cf-4ca2-b05c-190a5be83a2b",
   "metadata": {},
   "outputs": [
    {
     "data": {
      "text/plain": [
       "True"
      ]
     },
     "execution_count": 15,
     "metadata": {},
     "output_type": "execute_result"
    }
   ],
   "source": [
    "details[-1]"
   ]
  },
  {
   "cell_type": "code",
   "execution_count": 18,
   "id": "62030535-6853-4b0a-a404-bbf6f7cc4526",
   "metadata": {},
   "outputs": [
    {
     "data": {
      "text/plain": [
       "[33, 101.41]"
      ]
     },
     "execution_count": 18,
     "metadata": {},
     "output_type": "execute_result"
    }
   ],
   "source": [
    "details[-3:-1]"
   ]
  },
  {
   "cell_type": "code",
   "execution_count": 19,
   "id": "13472207-be05-4ef4-abf9-98cecffe18d1",
   "metadata": {},
   "outputs": [
    {
     "data": {
      "text/plain": [
       "['altcontrol', 33]"
      ]
     },
     "execution_count": 19,
     "metadata": {},
     "output_type": "execute_result"
    }
   ],
   "source": [
    "details[-4:-2]"
   ]
  },
  {
   "cell_type": "code",
   "execution_count": 21,
   "id": "961dc3a1-cc24-4e34-87d8-1bf6ef8b0a68",
   "metadata": {},
   "outputs": [
    {
     "data": {
      "text/plain": [
       "['altcontrol', 33, 101.41]"
      ]
     },
     "execution_count": 21,
     "metadata": {},
     "output_type": "execute_result"
    }
   ],
   "source": [
    "details[-4:-1]"
   ]
  },
  {
   "cell_type": "code",
   "execution_count": 22,
   "id": "b13e50c5-ac7b-45d5-a57e-987e869ffc79",
   "metadata": {},
   "outputs": [
    {
     "data": {
      "text/plain": [
       "'altcontrol'"
      ]
     },
     "execution_count": 22,
     "metadata": {},
     "output_type": "execute_result"
    }
   ],
   "source": [
    "details[-4]"
   ]
  },
  {
   "cell_type": "code",
   "execution_count": 3,
   "id": "3784c018-29ea-4543-b6b0-df9de2c678bd",
   "metadata": {},
   "outputs": [],
   "source": [
    "city = [\"Newyork\", \"Chicago\", \"Dallas\", \"Houston\", \"SanJose\", \"Los Angeles\"] "
   ]
  },
  {
   "cell_type": "code",
   "execution_count": 2,
   "id": "76b23603-c516-4d9c-91cd-3717ef2b490a",
   "metadata": {},
   "outputs": [
    {
     "ename": "NameError",
     "evalue": "name 'citi' is not defined",
     "output_type": "error",
     "traceback": [
      "\u001b[0;31m---------------------------------------------------------------------------\u001b[0m",
      "\u001b[0;31mNameError\u001b[0m                                 Traceback (most recent call last)",
      "Cell \u001b[0;32mIn[2], line 1\u001b[0m\n\u001b[0;32m----> 1\u001b[0m citi[\u001b[38;5;241m-\u001b[39m\u001b[38;5;241m1\u001b[39m:]\n",
      "\u001b[0;31mNameError\u001b[0m: name 'citi' is not defined"
     ]
    }
   ],
   "source": [
    "citi[-1:]"
   ]
  },
  {
   "cell_type": "code",
   "execution_count": 3,
   "id": "77fa34c1-9cd2-4206-9552-d87fe9284747",
   "metadata": {},
   "outputs": [
    {
     "data": {
      "text/plain": [
       "['Los Angeles']"
      ]
     },
     "execution_count": 3,
     "metadata": {},
     "output_type": "execute_result"
    }
   ],
   "source": [
    "city[-1:]"
   ]
  },
  {
   "cell_type": "code",
   "execution_count": 4,
   "id": "1591e80a-4f1e-4f5b-a9b4-b07b7ba22d21",
   "metadata": {},
   "outputs": [
    {
     "data": {
      "text/plain": [
       "['Newyork', 'Chicago', 'Dallas', 'Houston', 'SanJose']"
      ]
     },
     "execution_count": 4,
     "metadata": {},
     "output_type": "execute_result"
    }
   ],
   "source": [
    "city[:-1]"
   ]
  },
  {
   "cell_type": "code",
   "execution_count": 16,
   "id": "d469a7a2-9d6a-40b2-8a8e-6ae4e422c908",
   "metadata": {},
   "outputs": [
    {
     "data": {
      "text/plain": [
       "['Newyork', 'Chicago', 'Dallas', 'Houston', 'SanJose']"
      ]
     },
     "execution_count": 16,
     "metadata": {},
     "output_type": "execute_result"
    }
   ],
   "source": [
    "city[-7:-1]"
   ]
  },
  {
   "cell_type": "code",
   "execution_count": 6,
   "id": "68dd5a03-b07b-4e20-8f3a-d926158663ae",
   "metadata": {},
   "outputs": [
    {
     "data": {
      "text/plain": [
       "[]"
      ]
     },
     "execution_count": 6,
     "metadata": {},
     "output_type": "execute_result"
    }
   ],
   "source": [
    "city[-1:0]"
   ]
  },
  {
   "cell_type": "code",
   "execution_count": 7,
   "id": "f2e6cdba-a0af-4aa8-883f-d83d39ffcaec",
   "metadata": {},
   "outputs": [
    {
     "data": {
      "text/plain": [
       "[]"
      ]
     },
     "execution_count": 7,
     "metadata": {},
     "output_type": "execute_result"
    }
   ],
   "source": [
    "city[-1:3]"
   ]
  },
  {
   "cell_type": "code",
   "execution_count": 8,
   "id": "d7a872ef-8936-453c-bc48-e07328ae7d6b",
   "metadata": {},
   "outputs": [
    {
     "data": {
      "text/plain": [
       "[]"
      ]
     },
     "execution_count": 8,
     "metadata": {},
     "output_type": "execute_result"
    }
   ],
   "source": [
    "city[-1:-7]"
   ]
  },
  {
   "cell_type": "code",
   "execution_count": 14,
   "id": "a59a7941-2dd9-4f9d-9c5a-3724d9e104a0",
   "metadata": {},
   "outputs": [
    {
     "data": {
      "text/plain": [
       "['Newyork', 'Chicago', 'Dallas', 'Houston', 'SanJose']"
      ]
     },
     "execution_count": 14,
     "metadata": {},
     "output_type": "execute_result"
    }
   ],
   "source": [
    "city[0:5]"
   ]
  },
  {
   "cell_type": "code",
   "execution_count": 12,
   "id": "ddd70d90-399d-4ae0-b334-ee51a4f1c0ef",
   "metadata": {},
   "outputs": [
    {
     "data": {
      "text/plain": [
       "['Dallas', 'Houston', 'SanJose', 'Los Angeles']"
      ]
     },
     "execution_count": 12,
     "metadata": {},
     "output_type": "execute_result"
    }
   ],
   "source": [
    "city[2:]"
   ]
  },
  {
   "cell_type": "code",
   "execution_count": 13,
   "id": "75662114-931a-4e24-992b-7c21f392bbb4",
   "metadata": {},
   "outputs": [
    {
     "data": {
      "text/plain": [
       "['Newyork', 'Chicago']"
      ]
     },
     "execution_count": 13,
     "metadata": {},
     "output_type": "execute_result"
    }
   ],
   "source": [
    "city[:2]"
   ]
  },
  {
   "cell_type": "code",
   "execution_count": 17,
   "id": "1999acce-688f-4c9a-a370-db5d1b54ff70",
   "metadata": {},
   "outputs": [
    {
     "name": "stdout",
     "output_type": "stream",
     "text": [
      "[1, 2, 3, 4, 5]\n"
     ]
    }
   ],
   "source": [
    "my_list = [1, 2, 3, 4, 5]\n",
    "negative_slice = my_list[-len(my_list):]\n",
    "print(negative_slice)"
   ]
  },
  {
   "cell_type": "code",
   "execution_count": 18,
   "id": "6410648d-0d4c-48ba-83ea-7522b02ad1c4",
   "metadata": {},
   "outputs": [
    {
     "data": {
      "text/plain": [
       "5"
      ]
     },
     "execution_count": 18,
     "metadata": {},
     "output_type": "execute_result"
    }
   ],
   "source": [
    "negative_slice[-1]"
   ]
  },
  {
   "cell_type": "code",
   "execution_count": 20,
   "id": "6902f4ce-3d1e-4811-b62d-cbd821cb8088",
   "metadata": {},
   "outputs": [
    {
     "data": {
      "text/plain": [
       "[1, 2, 3, 4]"
      ]
     },
     "execution_count": 20,
     "metadata": {},
     "output_type": "execute_result"
    }
   ],
   "source": [
    "negative_slice[-5:-1]"
   ]
  },
  {
   "cell_type": "code",
   "execution_count": 28,
   "id": "dc17ced5-5704-473f-a60f-19b519ddc310",
   "metadata": {},
   "outputs": [
    {
     "data": {
      "text/plain": [
       "[2, 3, 4, 5]"
      ]
     },
     "execution_count": 28,
     "metadata": {},
     "output_type": "execute_result"
    }
   ],
   "source": [
    "negative_slice[1:5]"
   ]
  },
  {
   "cell_type": "code",
   "execution_count": 33,
   "id": "abe0e5bd-04ef-4873-b12c-791916564431",
   "metadata": {},
   "outputs": [
    {
     "data": {
      "text/plain": [
       "[1, 2, 3, 4, 5]"
      ]
     },
     "execution_count": 33,
     "metadata": {},
     "output_type": "execute_result"
    }
   ],
   "source": [
    "negative_slice[-5:]"
   ]
  },
  {
   "cell_type": "code",
   "execution_count": 34,
   "id": "0bb45f30-bb86-4946-b65b-51671e9af888",
   "metadata": {},
   "outputs": [
    {
     "data": {
      "text/plain": [
       "[1, 2, 3, 4, 5]"
      ]
     },
     "execution_count": 34,
     "metadata": {},
     "output_type": "execute_result"
    }
   ],
   "source": [
    "negative_slice[0:]"
   ]
  },
  {
   "cell_type": "code",
   "execution_count": 36,
   "id": "78a86b68-e54d-4ea0-87fe-536f1b574039",
   "metadata": {},
   "outputs": [
    {
     "data": {
      "text/plain": [
       "[1, 2, 3, 4, 5]"
      ]
     },
     "execution_count": 36,
     "metadata": {},
     "output_type": "execute_result"
    }
   ],
   "source": [
    "my_list[-5:]"
   ]
  },
  {
   "cell_type": "code",
   "execution_count": 37,
   "id": "d867dfef-8746-4b0f-96db-0a607a02b841",
   "metadata": {},
   "outputs": [
    {
     "data": {
      "text/plain": [
       "[1, 2, 3, 4, 5]"
      ]
     },
     "execution_count": 37,
     "metadata": {},
     "output_type": "execute_result"
    }
   ],
   "source": [
    "my_list[0:6]"
   ]
  },
  {
   "cell_type": "markdown",
   "id": "b731e397-c2f8-4b51-ad90-d0243e2d7bc4",
   "metadata": {},
   "source": [
    "<h1>basic list methods</h1>"
   ]
  },
  {
   "cell_type": "code",
   "execution_count": 40,
   "id": "fa0aa6e4-05ac-4d69-a4c4-79b0c07254ea",
   "metadata": {},
   "outputs": [],
   "source": [
    "#append -to add new value at the end."
   ]
  },
  {
   "cell_type": "code",
   "execution_count": 4,
   "id": "a2091a5a-a53b-4c3f-9941-3ac35e624912",
   "metadata": {},
   "outputs": [],
   "source": [
    "city.append(\"Boston\")"
   ]
  },
  {
   "cell_type": "code",
   "execution_count": 5,
   "id": "b41a0497-76b0-4dc1-b290-4465ffa2da60",
   "metadata": {},
   "outputs": [
    {
     "data": {
      "text/plain": [
       "['Newyork', 'Chicago', 'Dallas', 'Houston', 'SanJose', 'Los Angeles', 'Boston']"
      ]
     },
     "execution_count": 5,
     "metadata": {},
     "output_type": "execute_result"
    }
   ],
   "source": [
    "city"
   ]
  },
  {
   "cell_type": "code",
   "execution_count": 43,
   "id": "54745131-3c08-4bef-82ed-aafb2760e374",
   "metadata": {},
   "outputs": [],
   "source": [
    "#insert - to add by index position"
   ]
  },
  {
   "cell_type": "code",
   "execution_count": 4,
   "id": "d268d3e7-e449-46a0-983d-01205b4d37d0",
   "metadata": {},
   "outputs": [],
   "source": [
    "city.sort(reverse=True)"
   ]
  },
  {
   "cell_type": "code",
   "execution_count": 6,
   "id": "a9a3e4fc-85e7-4199-a919-b79a2ccf43a9",
   "metadata": {},
   "outputs": [
    {
     "data": {
      "text/plain": [
       "['Newyork', 'Chicago', 'Dallas', 'Houston', 'SanJose', 'Los Angeles', 'Boston']"
      ]
     },
     "execution_count": 6,
     "metadata": {},
     "output_type": "execute_result"
    }
   ],
   "source": [
    "city"
   ]
  },
  {
   "cell_type": "code",
   "execution_count": 7,
   "id": "5bacd472-3b61-423f-af7c-6f328ae12db8",
   "metadata": {},
   "outputs": [],
   "source": [
    "city.insert(1,\"Saint Louis\")"
   ]
  },
  {
   "cell_type": "code",
   "execution_count": 7,
   "id": "6ad6831d-e992-4b59-a789-eacacf6e1304",
   "metadata": {
    "tags": []
   },
   "outputs": [
    {
     "data": {
      "text/plain": [
       "['SanJose',\n",
       " 'Saint Louis',\n",
       " 'Newyork',\n",
       " 'Los Angeles',\n",
       " 'Houston',\n",
       " 'Dallas',\n",
       " 'Chicago',\n",
       " 'Boston']"
      ]
     },
     "execution_count": 7,
     "metadata": {},
     "output_type": "execute_result"
    }
   ],
   "source": [
    "city"
   ]
  },
  {
   "cell_type": "code",
   "execution_count": 8,
   "id": "14db0c4a-f996-4c4c-b10f-0540aec46937",
   "metadata": {},
   "outputs": [],
   "source": [
    "z=city.copy()"
   ]
  },
  {
   "cell_type": "code",
   "execution_count": 9,
   "id": "fe61f6a4-c1bf-48dd-b9ac-1f00f306e109",
   "metadata": {
    "tags": []
   },
   "outputs": [
    {
     "data": {
      "text/plain": [
       "['Newyork',\n",
       " 'Saint Louis',\n",
       " 'Chicago',\n",
       " 'Dallas',\n",
       " 'Houston',\n",
       " 'SanJose',\n",
       " 'Los Angeles',\n",
       " 'Boston']"
      ]
     },
     "execution_count": 9,
     "metadata": {},
     "output_type": "execute_result"
    }
   ],
   "source": [
    "z"
   ]
  },
  {
   "cell_type": "code",
   "execution_count": 12,
   "id": "1fc0279a-cd24-4a98-84b1-0ca498751edd",
   "metadata": {
    "tags": []
   },
   "outputs": [
    {
     "data": {
      "text/plain": [
       "1"
      ]
     },
     "execution_count": 12,
     "metadata": {},
     "output_type": "execute_result"
    }
   ],
   "source": [
    "x=city.count(\"Dallas\")\n",
    "x"
   ]
  },
  {
   "cell_type": "code",
   "execution_count": 13,
   "id": "67ae245e-4f30-4bad-ba79-fc36fa2a7655",
   "metadata": {
    "tags": []
   },
   "outputs": [],
   "source": [
    "place=[\"Downtown\",\"suburban\",1,2.5,True]"
   ]
  },
  {
   "cell_type": "code",
   "execution_count": 14,
   "id": "ff05f93f-35f0-4785-b991-9f80d59929b2",
   "metadata": {
    "tags": []
   },
   "outputs": [],
   "source": [
    "city.extend(place)"
   ]
  },
  {
   "cell_type": "code",
   "execution_count": 15,
   "id": "13ebd44d-b309-4136-a53b-e786b47a30a0",
   "metadata": {
    "tags": []
   },
   "outputs": [
    {
     "data": {
      "text/plain": [
       "['Newyork',\n",
       " 'Saint Louis',\n",
       " 'Chicago',\n",
       " 'Dallas',\n",
       " 'Houston',\n",
       " 'SanJose',\n",
       " 'Los Angeles',\n",
       " 'Boston',\n",
       " 'Downtown',\n",
       " 'suburban',\n",
       " 1,\n",
       " 2.5,\n",
       " True]"
      ]
     },
     "execution_count": 15,
     "metadata": {},
     "output_type": "execute_result"
    }
   ],
   "source": [
    "city"
   ]
  },
  {
   "cell_type": "code",
   "execution_count": 16,
   "id": "4ea08d59-22ef-42e8-b2f9-f8438257557d",
   "metadata": {
    "tags": []
   },
   "outputs": [
    {
     "data": {
      "text/plain": [
       "10"
      ]
     },
     "execution_count": 16,
     "metadata": {},
     "output_type": "execute_result"
    }
   ],
   "source": [
    "city.index(1)"
   ]
  },
  {
   "cell_type": "code",
   "execution_count": 17,
   "id": "2d2b8633-2fab-44ad-a444-d1039d1ebf6a",
   "metadata": {
    "tags": []
   },
   "outputs": [
    {
     "data": {
      "text/plain": [
       "1"
      ]
     },
     "execution_count": 17,
     "metadata": {},
     "output_type": "execute_result"
    }
   ],
   "source": [
    "city.pop(10)"
   ]
  },
  {
   "cell_type": "code",
   "execution_count": 18,
   "id": "60ff3ed6-d70a-49e5-abbb-f5415e9d3b61",
   "metadata": {
    "tags": []
   },
   "outputs": [
    {
     "data": {
      "text/plain": [
       "['Newyork',\n",
       " 'Saint Louis',\n",
       " 'Chicago',\n",
       " 'Dallas',\n",
       " 'Houston',\n",
       " 'SanJose',\n",
       " 'Los Angeles',\n",
       " 'Boston',\n",
       " 'Downtown',\n",
       " 'suburban',\n",
       " 2.5,\n",
       " True]"
      ]
     },
     "execution_count": 18,
     "metadata": {},
     "output_type": "execute_result"
    }
   ],
   "source": [
    "city"
   ]
  },
  {
   "cell_type": "code",
   "execution_count": 20,
   "id": "432de4a9-96cb-45a1-9eb0-7e9a50f1f105",
   "metadata": {
    "tags": []
   },
   "outputs": [],
   "source": [
    "city.remove(2.5)"
   ]
  },
  {
   "cell_type": "code",
   "execution_count": 21,
   "id": "bb1803ce-bd45-4101-afc3-c295646f8ac6",
   "metadata": {
    "tags": []
   },
   "outputs": [
    {
     "data": {
      "text/plain": [
       "['Newyork',\n",
       " 'Saint Louis',\n",
       " 'Chicago',\n",
       " 'Dallas',\n",
       " 'Houston',\n",
       " 'SanJose',\n",
       " 'Los Angeles',\n",
       " 'Boston',\n",
       " 'Downtown',\n",
       " 'suburban',\n",
       " True]"
      ]
     },
     "execution_count": 21,
     "metadata": {},
     "output_type": "execute_result"
    }
   ],
   "source": [
    "city"
   ]
  },
  {
   "cell_type": "code",
   "execution_count": 22,
   "id": "15ae5c72-746a-460c-840a-1c59ba62f136",
   "metadata": {
    "tags": []
   },
   "outputs": [],
   "source": [
    "city.reverse()"
   ]
  },
  {
   "cell_type": "code",
   "execution_count": 23,
   "id": "3a429c4d-4d33-474f-bec3-6f4598fa7ce4",
   "metadata": {
    "tags": []
   },
   "outputs": [
    {
     "data": {
      "text/plain": [
       "[True,\n",
       " 'suburban',\n",
       " 'Downtown',\n",
       " 'Boston',\n",
       " 'Los Angeles',\n",
       " 'SanJose',\n",
       " 'Houston',\n",
       " 'Dallas',\n",
       " 'Chicago',\n",
       " 'Saint Louis',\n",
       " 'Newyork']"
      ]
     },
     "execution_count": 23,
     "metadata": {},
     "output_type": "execute_result"
    }
   ],
   "source": [
    "city"
   ]
  },
  {
   "cell_type": "code",
   "execution_count": 24,
   "id": "ace527dc-2ae0-4070-adbc-423e71a78a48",
   "metadata": {
    "tags": []
   },
   "outputs": [
    {
     "ename": "TypeError",
     "evalue": "'<' not supported between instances of 'str' and 'bool'",
     "output_type": "error",
     "traceback": [
      "\u001b[0;31m---------------------------------------------------------------------------\u001b[0m",
      "\u001b[0;31mTypeError\u001b[0m                                 Traceback (most recent call last)",
      "Cell \u001b[0;32mIn[24], line 1\u001b[0m\n\u001b[0;32m----> 1\u001b[0m city\u001b[38;5;241m.\u001b[39msort()\n",
      "\u001b[0;31mTypeError\u001b[0m: '<' not supported between instances of 'str' and 'bool'"
     ]
    }
   ],
   "source": [
    "city.sort()"
   ]
  },
  {
   "cell_type": "code",
   "execution_count": 25,
   "id": "1d2e1b9c-623b-458c-afe6-b8d64a849d7d",
   "metadata": {
    "tags": []
   },
   "outputs": [
    {
     "data": {
      "text/plain": [
       "True"
      ]
     },
     "execution_count": 25,
     "metadata": {},
     "output_type": "execute_result"
    }
   ],
   "source": [
    "city.pop(0)"
   ]
  },
  {
   "cell_type": "code",
   "execution_count": 26,
   "id": "ae035c39-da26-45c3-a112-5cd782288ba6",
   "metadata": {
    "tags": []
   },
   "outputs": [],
   "source": [
    "city.sort()"
   ]
  },
  {
   "cell_type": "code",
   "execution_count": 27,
   "id": "4cda302d-08a7-4f8b-9334-2bb5423c4bfe",
   "metadata": {
    "tags": []
   },
   "outputs": [
    {
     "data": {
      "text/plain": [
       "['Boston',\n",
       " 'Chicago',\n",
       " 'Dallas',\n",
       " 'Downtown',\n",
       " 'Houston',\n",
       " 'Los Angeles',\n",
       " 'Newyork',\n",
       " 'Saint Louis',\n",
       " 'SanJose',\n",
       " 'suburban']"
      ]
     },
     "execution_count": 27,
     "metadata": {},
     "output_type": "execute_result"
    }
   ],
   "source": [
    "city"
   ]
  },
  {
   "cell_type": "code",
   "execution_count": null,
   "id": "8904f15b-e224-4b87-9263-2cc982a962d8",
   "metadata": {},
   "outputs": [],
   "source": []
  },
  {
   "cell_type": "markdown",
   "id": "db1390b7-126e-4fce-8342-041ad1262e45",
   "metadata": {
    "tags": []
   },
   "source": [
    "<h2>nested lists<h2>"
   ]
  },
  {
   "cell_type": "code",
   "execution_count": 29,
   "id": "086cff34-3ced-40da-875e-c32514ab6906",
   "metadata": {
    "tags": []
   },
   "outputs": [],
   "source": [
    "mobiles =[\"1 plus\",\"oppo\",\"samsung\",\"Apple\"]"
   ]
  },
  {
   "cell_type": "code",
   "execution_count": 30,
   "id": "cf6e72ad-0ef5-4023-8675-e56a21ea1202",
   "metadata": {
    "tags": []
   },
   "outputs": [
    {
     "data": {
      "text/plain": [
       "['1 plus', 'oppo', 'samsung', 'Apple']"
      ]
     },
     "execution_count": 30,
     "metadata": {},
     "output_type": "execute_result"
    }
   ],
   "source": [
    "mobiles"
   ]
  },
  {
   "cell_type": "code",
   "execution_count": 31,
   "id": "cebd4dc2-0366-4927-ba3a-0369632c61b9",
   "metadata": {
    "tags": []
   },
   "outputs": [],
   "source": [
    "mobiles = [\"samsung\",\"Apple\",[\"1 plus\",\"oppo\",\"poco\"]]"
   ]
  },
  {
   "cell_type": "code",
   "execution_count": 32,
   "id": "16546e1d-39f6-4839-8f3a-ca9b00cc04c2",
   "metadata": {
    "tags": []
   },
   "outputs": [
    {
     "data": {
      "text/plain": [
       "['samsung', 'Apple', ['1 plus', 'oppo', 'poco']]"
      ]
     },
     "execution_count": 32,
     "metadata": {},
     "output_type": "execute_result"
    }
   ],
   "source": [
    "mobiles"
   ]
  },
  {
   "cell_type": "code",
   "execution_count": 33,
   "id": "a718e159-c7fc-403f-8129-7e10b82cda71",
   "metadata": {
    "tags": []
   },
   "outputs": [
    {
     "data": {
      "text/plain": [
       "'oppo'"
      ]
     },
     "execution_count": 33,
     "metadata": {},
     "output_type": "execute_result"
    }
   ],
   "source": [
    "mobiles[2][1]"
   ]
  },
  {
   "cell_type": "code",
   "execution_count": 34,
   "id": "39e04a58-5db0-481d-ad6f-977326bd4514",
   "metadata": {
    "tags": []
   },
   "outputs": [
    {
     "data": {
      "text/plain": [
       "'samsung'"
      ]
     },
     "execution_count": 34,
     "metadata": {},
     "output_type": "execute_result"
    }
   ],
   "source": [
    "mobiles[0]"
   ]
  },
  {
   "cell_type": "code",
   "execution_count": 35,
   "id": "9aedaf3e-e119-4a6f-9c79-283d38c37b01",
   "metadata": {
    "tags": []
   },
   "outputs": [],
   "source": [
    "cars = [\"car1\",\"car2\",[\"car3\",\"car4\",[\"car5\",\"car6\"],\"car8\"]]"
   ]
  },
  {
   "cell_type": "code",
   "execution_count": 36,
   "id": "77e4a1c9-d338-416d-8d6a-ca0cdbdbdaad",
   "metadata": {
    "tags": []
   },
   "outputs": [
    {
     "data": {
      "text/plain": [
       "['car1', 'car2', ['car3', 'car4', ['car5', 'car6'], 'car8']]"
      ]
     },
     "execution_count": 36,
     "metadata": {},
     "output_type": "execute_result"
    }
   ],
   "source": [
    "cars"
   ]
  },
  {
   "cell_type": "code",
   "execution_count": 38,
   "id": "132395ec-425e-49f4-b291-1ea1728f6e2c",
   "metadata": {
    "tags": []
   },
   "outputs": [
    {
     "data": {
      "text/plain": [
       "'car6'"
      ]
     },
     "execution_count": 38,
     "metadata": {},
     "output_type": "execute_result"
    }
   ],
   "source": [
    "cars[2][2][1]"
   ]
  },
  {
   "cell_type": "code",
   "execution_count": 39,
   "id": "459bc0c4-476d-4dd7-8586-ac541ed6cede",
   "metadata": {
    "tags": []
   },
   "outputs": [
    {
     "data": {
      "text/plain": [
       "'car2'"
      ]
     },
     "execution_count": 39,
     "metadata": {},
     "output_type": "execute_result"
    }
   ],
   "source": [
    "cars[1]"
   ]
  },
  {
   "cell_type": "code",
   "execution_count": 40,
   "id": "352ed1de-0373-4821-b435-25e2cbfe02d0",
   "metadata": {
    "tags": []
   },
   "outputs": [
    {
     "data": {
      "text/plain": [
       "'car8'"
      ]
     },
     "execution_count": 40,
     "metadata": {},
     "output_type": "execute_result"
    }
   ],
   "source": [
    "cars[2][3]"
   ]
  },
  {
   "cell_type": "code",
   "execution_count": 41,
   "id": "c3d3a9ee-32f7-4542-b487-1d57fad45200",
   "metadata": {
    "tags": []
   },
   "outputs": [
    {
     "data": {
      "text/plain": [
       "'car3'"
      ]
     },
     "execution_count": 41,
     "metadata": {},
     "output_type": "execute_result"
    }
   ],
   "source": [
    "cars[2][0]"
   ]
  },
  {
   "cell_type": "code",
   "execution_count": null,
   "id": "a1326fdc-59d6-49d6-ad67-fcfe79605a75",
   "metadata": {},
   "outputs": [],
   "source": []
  },
  {
   "cell_type": "markdown",
   "id": "281cdf61-7510-4641-9cae-1a6c377cd9e7",
   "metadata": {},
   "source": [
    "<h2>in/not in lists<h2>"
   ]
  },
  {
   "cell_type": "code",
   "execution_count": 43,
   "id": "38d74fe0-11de-4b1e-bc42-4f0cbe02f17a",
   "metadata": {
    "tags": []
   },
   "outputs": [
    {
     "data": {
      "text/plain": [
       "True"
      ]
     },
     "execution_count": 43,
     "metadata": {},
     "output_type": "execute_result"
    }
   ],
   "source": [
    "\"Apple\" in mobiles"
   ]
  },
  {
   "cell_type": "code",
   "execution_count": 44,
   "id": "a87ee55b-c7a0-44ec-a752-502fb9441922",
   "metadata": {
    "tags": []
   },
   "outputs": [
    {
     "data": {
      "text/plain": [
       "False"
      ]
     },
     "execution_count": 44,
     "metadata": {},
     "output_type": "execute_result"
    }
   ],
   "source": [
    "\"Apple\" not in mobiles"
   ]
  },
  {
   "cell_type": "code",
   "execution_count": 46,
   "id": "8c2c2322-b0e1-44b4-bae9-8675719a2728",
   "metadata": {
    "tags": []
   },
   "outputs": [
    {
     "data": {
      "text/plain": [
       "True"
      ]
     },
     "execution_count": 46,
     "metadata": {},
     "output_type": "execute_result"
    }
   ],
   "source": [
    "\"Apple\" in mobiles and \"car1\" in cars"
   ]
  },
  {
   "cell_type": "code",
   "execution_count": 47,
   "id": "046b7075-2f55-4bc5-99ee-aaa8c0408627",
   "metadata": {
    "tags": []
   },
   "outputs": [
    {
     "data": {
      "text/plain": [
       "False"
      ]
     },
     "execution_count": 47,
     "metadata": {},
     "output_type": "execute_result"
    }
   ],
   "source": [
    "\"Apple\" in mobiles and \"car5\" in cars # won't check nested lists"
   ]
  },
  {
   "cell_type": "code",
   "execution_count": 48,
   "id": "46058294-f700-4426-be54-bcfd74ebb9d7",
   "metadata": {
    "tags": []
   },
   "outputs": [],
   "source": [
    "mobiles = [\"samsung\",\"Apple\",[\"1 plus\",\"oppo\",\"poco\"]]"
   ]
  },
  {
   "cell_type": "code",
   "execution_count": 49,
   "id": "71847f32-4150-4542-a0c9-7b7b24c9b861",
   "metadata": {
    "tags": []
   },
   "outputs": [],
   "source": [
    "cars = [\"car1\",\"car2\",[\"car3\",\"car4\",[\"car5\",\"car6\"],\"car8\"]]"
   ]
  },
  {
   "cell_type": "code",
   "execution_count": 50,
   "id": "c0fb5f50-14ed-464d-9995-4d5fd4af5ac4",
   "metadata": {
    "tags": []
   },
   "outputs": [
    {
     "data": {
      "text/plain": [
       "True"
      ]
     },
     "execution_count": 50,
     "metadata": {},
     "output_type": "execute_result"
    }
   ],
   "source": [
    "\"Apple\" in mobiles and \"car1\" in cars"
   ]
  },
  {
   "cell_type": "code",
   "execution_count": 51,
   "id": "ad3381f7-d8c3-460f-98ed-7eda7e8ff2f1",
   "metadata": {
    "tags": []
   },
   "outputs": [
    {
     "data": {
      "text/plain": [
       "False"
      ]
     },
     "execution_count": 51,
     "metadata": {},
     "output_type": "execute_result"
    }
   ],
   "source": [
    "\"Apple\" in mobiles and \"car5\" in cars"
   ]
  },
  {
   "cell_type": "code",
   "execution_count": 52,
   "id": "669f2a2f-9038-4b5d-8b28-282496a23186",
   "metadata": {
    "tags": []
   },
   "outputs": [
    {
     "data": {
      "text/plain": [
       "['car1', 'car2', ['car3', 'car4', ['car5', 'car6'], 'car8']]"
      ]
     },
     "execution_count": 52,
     "metadata": {},
     "output_type": "execute_result"
    }
   ],
   "source": [
    "cars"
   ]
  },
  {
   "cell_type": "code",
   "execution_count": null,
   "id": "a5042111-8e6a-4d84-827f-4c7ac30a61fb",
   "metadata": {},
   "outputs": [],
   "source": []
  }
 ],
 "metadata": {
  "kernelspec": {
   "display_name": "Python 3 (ipykernel)",
   "language": "python",
   "name": "python3"
  },
  "language_info": {
   "codemirror_mode": {
    "name": "ipython",
    "version": 3
   },
   "file_extension": ".py",
   "mimetype": "text/x-python",
   "name": "python",
   "nbconvert_exporter": "python",
   "pygments_lexer": "ipython3",
   "version": "3.11.5"
  }
 },
 "nbformat": 4,
 "nbformat_minor": 5
}
