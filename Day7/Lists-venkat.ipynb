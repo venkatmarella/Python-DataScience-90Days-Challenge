{
 "cells": [
  {
   "cell_type": "markdown",
   "id": "370256f7-265b-45d3-bc17-4f86ee71c549",
   "metadata": {},
   "source": [
    "<h1>Lists</h1>\n",
    "[ ]"
   ]
  },
  {
   "cell_type": "code",
   "execution_count": 1,
   "id": "1bb4c547-b171-4709-84b0-91aa3c3fe35a",
   "metadata": {},
   "outputs": [],
   "source": [
    "names = [\"venkat\", 98989, 33.4]"
   ]
  },
  {
   "cell_type": "code",
   "execution_count": 2,
   "id": "9f657d08-d95a-4cd1-b06e-5bb1bfa6e16e",
   "metadata": {},
   "outputs": [
    {
     "data": {
      "text/plain": [
       "['venkat', 98989, 33.4]"
      ]
     },
     "execution_count": 2,
     "metadata": {},
     "output_type": "execute_result"
    }
   ],
   "source": [
    "names"
   ]
  },
  {
   "cell_type": "code",
   "execution_count": 3,
   "id": "3da80c42-f407-4036-ad76-31a5f4c5e8ce",
   "metadata": {},
   "outputs": [
    {
     "data": {
      "text/plain": [
       "list"
      ]
     },
     "execution_count": 3,
     "metadata": {},
     "output_type": "execute_result"
    }
   ],
   "source": [
    "type(names)"
   ]
  },
  {
   "cell_type": "code",
   "execution_count": 4,
   "id": "cee9949f-2756-490c-9007-74c2e010ad49",
   "metadata": {},
   "outputs": [
    {
     "data": {
      "text/plain": [
       "'venkat'"
      ]
     },
     "execution_count": 4,
     "metadata": {},
     "output_type": "execute_result"
    }
   ],
   "source": [
    "names[0]"
   ]
  },
  {
   "cell_type": "code",
   "execution_count": 6,
   "id": "0ce2bb17-dfa1-427a-b30d-549e231d7636",
   "metadata": {},
   "outputs": [
    {
     "data": {
      "text/plain": [
       "['venkat', 98989]"
      ]
     },
     "execution_count": 6,
     "metadata": {},
     "output_type": "execute_result"
    }
   ],
   "source": [
    "names[0:2] # slicing starts with zero and ends with n-1"
   ]
  },
  {
   "cell_type": "code",
   "execution_count": 7,
   "id": "d8f2c250-b865-473b-8c1b-c7b46af6e609",
   "metadata": {},
   "outputs": [
    {
     "data": {
      "text/plain": [
       "['venkat', 98989, 33.4]"
      ]
     },
     "execution_count": 7,
     "metadata": {},
     "output_type": "execute_result"
    }
   ],
   "source": [
    "names[0:]"
   ]
  },
  {
   "cell_type": "code",
   "execution_count": 8,
   "id": "65b3c434-5133-4e8c-99bb-636b31a5fa47",
   "metadata": {},
   "outputs": [
    {
     "data": {
      "text/plain": [
       "[]"
      ]
     },
     "execution_count": 8,
     "metadata": {},
     "output_type": "execute_result"
    }
   ],
   "source": [
    "names[:0]"
   ]
  },
  {
   "cell_type": "code",
   "execution_count": 9,
   "id": "98d134d3-89fa-4710-8317-21d949e207c7",
   "metadata": {},
   "outputs": [
    {
     "data": {
      "text/plain": [
       "['venkat', 98989]"
      ]
     },
     "execution_count": 9,
     "metadata": {},
     "output_type": "execute_result"
    }
   ],
   "source": [
    "names[:-1] #negative indexing & slice 5 examples - assignments"
   ]
  },
  {
   "cell_type": "code",
   "execution_count": 10,
   "id": "c2871aca-400d-4e15-ae70-58b9444d15d6",
   "metadata": {},
   "outputs": [
    {
     "data": {
      "text/plain": [
       "[33.4]"
      ]
     },
     "execution_count": 10,
     "metadata": {},
     "output_type": "execute_result"
    }
   ],
   "source": [
    "names[-1:]"
   ]
  },
  {
   "cell_type": "code",
   "execution_count": null,
   "id": "9a91f623-f583-436f-9ce8-96d762a1e247",
   "metadata": {},
   "outputs": [],
   "source": []
  },
  {
   "cell_type": "code",
   "execution_count": null,
   "id": "26918cee-1d34-45c3-abb9-e1c74ebbdcab",
   "metadata": {},
   "outputs": [],
   "source": []
  },
  {
   "cell_type": "code",
   "execution_count": 13,
   "id": "bc269658-646c-4492-9cd4-3c6326b973e8",
   "metadata": {},
   "outputs": [],
   "source": [
    "### negative indexing & slice 5 examples - assignments\n"
   ]
  },
  {
   "cell_type": "code",
   "execution_count": 14,
   "id": "2a0116bb-7a6e-47d1-8a71-85ace7f2a085",
   "metadata": {},
   "outputs": [],
   "source": [
    "details = [\"altcontrol\", 33, 101.41, True]"
   ]
  },
  {
   "cell_type": "code",
   "execution_count": 15,
   "id": "511ae301-38cf-4ca2-b05c-190a5be83a2b",
   "metadata": {},
   "outputs": [
    {
     "data": {
      "text/plain": [
       "True"
      ]
     },
     "execution_count": 15,
     "metadata": {},
     "output_type": "execute_result"
    }
   ],
   "source": [
    "details[-1]"
   ]
  },
  {
   "cell_type": "code",
   "execution_count": 18,
   "id": "62030535-6853-4b0a-a404-bbf6f7cc4526",
   "metadata": {},
   "outputs": [
    {
     "data": {
      "text/plain": [
       "[33, 101.41]"
      ]
     },
     "execution_count": 18,
     "metadata": {},
     "output_type": "execute_result"
    }
   ],
   "source": [
    "details[-3:-1]"
   ]
  },
  {
   "cell_type": "code",
   "execution_count": 19,
   "id": "13472207-be05-4ef4-abf9-98cecffe18d1",
   "metadata": {},
   "outputs": [
    {
     "data": {
      "text/plain": [
       "['altcontrol', 33]"
      ]
     },
     "execution_count": 19,
     "metadata": {},
     "output_type": "execute_result"
    }
   ],
   "source": [
    "details[-4:-2]"
   ]
  },
  {
   "cell_type": "code",
   "execution_count": 21,
   "id": "961dc3a1-cc24-4e34-87d8-1bf6ef8b0a68",
   "metadata": {},
   "outputs": [
    {
     "data": {
      "text/plain": [
       "['altcontrol', 33, 101.41]"
      ]
     },
     "execution_count": 21,
     "metadata": {},
     "output_type": "execute_result"
    }
   ],
   "source": [
    "details[-4:-1]"
   ]
  },
  {
   "cell_type": "code",
   "execution_count": 22,
   "id": "b13e50c5-ac7b-45d5-a57e-987e869ffc79",
   "metadata": {},
   "outputs": [
    {
     "data": {
      "text/plain": [
       "'altcontrol'"
      ]
     },
     "execution_count": 22,
     "metadata": {},
     "output_type": "execute_result"
    }
   ],
   "source": [
    "details[-4]"
   ]
  },
  {
   "cell_type": "code",
   "execution_count": null,
   "id": "3784c018-29ea-4543-b6b0-df9de2c678bd",
   "metadata": {},
   "outputs": [],
   "source": []
  }
 ],
 "metadata": {
  "kernelspec": {
   "display_name": "Python 3 (ipykernel)",
   "language": "python",
   "name": "python3"
  },
  "language_info": {
   "codemirror_mode": {
    "name": "ipython",
    "version": 3
   },
   "file_extension": ".py",
   "mimetype": "text/x-python",
   "name": "python",
   "nbconvert_exporter": "python",
   "pygments_lexer": "ipython3",
   "version": "3.11.7"
  }
 },
 "nbformat": 4,
 "nbformat_minor": 5
}
