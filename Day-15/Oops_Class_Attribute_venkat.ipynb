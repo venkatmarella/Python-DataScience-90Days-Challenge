{
 "cells": [
  {
   "cell_type": "code",
   "execution_count": 1,
   "id": "9fec43f9-80ad-4014-8b5b-14a927414e87",
   "metadata": {
    "tags": []
   },
   "outputs": [
    {
     "name": "stdout",
     "output_type": "stream",
     "text": [
      "pythonisfun\n"
     ]
    }
   ],
   "source": [
    "class python:\n",
    "    \"\"\"\n",
    "    This is python\n",
    "    \"\"\"\n",
    "    print(\"pythonisfun\")"
   ]
  },
  {
   "cell_type": "code",
   "execution_count": 3,
   "id": "18885454-443e-4629-829f-d126743a8e49",
   "metadata": {
    "tags": []
   },
   "outputs": [
    {
     "name": "stdout",
     "output_type": "stream",
     "text": [
      "\n",
      "    This is python\n",
      "    \n"
     ]
    }
   ],
   "source": [
    "print(python.__doc__)"
   ]
  },
  {
   "cell_type": "code",
   "execution_count": 4,
   "id": "48413ea9-6500-417e-a2d5-7eef052d3ea2",
   "metadata": {
    "tags": []
   },
   "outputs": [],
   "source": [
    "pm = python()"
   ]
  },
  {
   "cell_type": "code",
   "execution_count": 5,
   "id": "9975167c-8a6d-4619-bfb0-6ce0da301b60",
   "metadata": {
    "tags": []
   },
   "outputs": [
    {
     "data": {
      "text/plain": [
       "<__main__.python at 0x10ec19510>"
      ]
     },
     "execution_count": 5,
     "metadata": {},
     "output_type": "execute_result"
    }
   ],
   "source": [
    "pm"
   ]
  },
  {
   "cell_type": "code",
   "execution_count": 12,
   "id": "011ef9b0-d2ec-482e-81c7-cfcd47b42a6c",
   "metadata": {
    "tags": []
   },
   "outputs": [],
   "source": [
    "class ATM:\n",
    "    pin = \"1235\"\n",
    "    language = \"English\"\n",
    "    balance = 4000\n",
    "    def check_balance(self):\n",
    "        self.balance\n",
    "        return self.balance\n",
    "    \n",
    "    def withdraw(self,w_amount):\n",
    "        self.w_amount = w_amount\n",
    "        if self.w_amount > self.balance:\n",
    "            return \"Insufficiant balance\"\n",
    "        else:\n",
    "            self.balance -= w_amount\n",
    "            return self.balance\n",
    "    \n",
    "    def change_pin(self,new_pin):\n",
    "        pin=new_pin\n",
    "        return pin        \n",
    "    def deposit(self,d_amount):\n",
    "        self.d_amount = d_amount\n",
    "        if self.d_amount < 0:\n",
    "            return \"Please enter valid amount\"\n",
    "        else:\n",
    "            self.balance += d_amount\n",
    "            return self.balance"
   ]
  },
  {
   "cell_type": "code",
   "execution_count": 13,
   "id": "534f179a-7f7c-4d56-9aab-936d15f79778",
   "metadata": {
    "tags": []
   },
   "outputs": [],
   "source": [
    "rank = ATM()"
   ]
  },
  {
   "cell_type": "code",
   "execution_count": 14,
   "id": "19da2093-380c-4964-bafa-97db2f5c996d",
   "metadata": {
    "tags": []
   },
   "outputs": [
    {
     "data": {
      "text/plain": [
       "4000"
      ]
     },
     "execution_count": 14,
     "metadata": {},
     "output_type": "execute_result"
    }
   ],
   "source": [
    "rank.balance"
   ]
  },
  {
   "cell_type": "code",
   "execution_count": 15,
   "id": "fe85e23b-3049-4c89-bf06-c3aca0dc0873",
   "metadata": {
    "tags": []
   },
   "outputs": [
    {
     "data": {
      "text/plain": [
       "'1235'"
      ]
     },
     "execution_count": 15,
     "metadata": {},
     "output_type": "execute_result"
    }
   ],
   "source": [
    "rank.pin"
   ]
  },
  {
   "cell_type": "code",
   "execution_count": 16,
   "id": "00b2f20a-76c6-4337-b316-a195f02e0490",
   "metadata": {
    "tags": []
   },
   "outputs": [
    {
     "data": {
      "text/plain": [
       "'English'"
      ]
     },
     "execution_count": 16,
     "metadata": {},
     "output_type": "execute_result"
    }
   ],
   "source": [
    "rank.language"
   ]
  },
  {
   "cell_type": "code",
   "execution_count": null,
   "id": "41c86a3d-d493-44f3-bdd5-95318b2ca0e1",
   "metadata": {},
   "outputs": [],
   "source": []
  },
  {
   "cell_type": "code",
   "execution_count": 18,
   "id": "7eb32eeb-b6dc-40d8-aa5f-b1ac203582ea",
   "metadata": {
    "tags": []
   },
   "outputs": [],
   "source": [
    "class student:\n",
    "    def  check_pass(self):\n",
    "        if self.maths >= 35:\n",
    "            return True\n",
    "        else:\n",
    "            return False"
   ]
  },
  {
   "cell_type": "code",
   "execution_count": 19,
   "id": "93771abd-a2c4-4e57-8643-1bd95f21cb74",
   "metadata": {
    "tags": []
   },
   "outputs": [],
   "source": [
    "venkat = student()"
   ]
  },
  {
   "cell_type": "code",
   "execution_count": 21,
   "id": "ec69e385-c83d-48e9-9ddd-abd32ccccc0b",
   "metadata": {
    "tags": []
   },
   "outputs": [],
   "source": [
    "venkat.maths = 50"
   ]
  },
  {
   "cell_type": "code",
   "execution_count": 22,
   "id": "a9ea3571-22d8-4877-9a06-b8c7c6794b7f",
   "metadata": {
    "tags": []
   },
   "outputs": [
    {
     "data": {
      "text/plain": [
       "True"
      ]
     },
     "execution_count": 22,
     "metadata": {},
     "output_type": "execute_result"
    }
   ],
   "source": [
    "venkat.check_pass()"
   ]
  },
  {
   "cell_type": "code",
   "execution_count": null,
   "id": "0c44204a-a501-4a26-96ff-37108699a7a8",
   "metadata": {},
   "outputs": [],
   "source": []
  }
 ],
 "metadata": {
  "kernelspec": {
   "display_name": "Python 3 (ipykernel)",
   "language": "python",
   "name": "python3"
  },
  "language_info": {
   "codemirror_mode": {
    "name": "ipython",
    "version": 3
   },
   "file_extension": ".py",
   "mimetype": "text/x-python",
   "name": "python",
   "nbconvert_exporter": "python",
   "pygments_lexer": "ipython3",
   "version": "3.11.5"
  }
 },
 "nbformat": 4,
 "nbformat_minor": 5
}
