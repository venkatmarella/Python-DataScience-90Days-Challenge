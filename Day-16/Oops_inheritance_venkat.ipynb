{
 "cells": [
  {
   "cell_type": "markdown",
   "id": "cdc4d884-5fbc-40a0-bf63-c224f7ddb701",
   "metadata": {},
   "source": [
    "<h>Inheritance<h>"
   ]
  },
  {
   "cell_type": "code",
   "execution_count": 23,
   "id": "8a2b923b-8ebf-4367-a5d2-509184d63981",
   "metadata": {
    "tags": []
   },
   "outputs": [],
   "source": [
    "class electronics:\n",
    "    def mobile(self,company_name,model):\n",
    "        self.company_name = company_name\n",
    "        self.model = model\n",
    "    def touch_screen(self):\n",
    "        print(\"Most models are touch screen\")"
   ]
  },
  {
   "cell_type": "code",
   "execution_count": 24,
   "id": "3d149091-4018-4414-bc12-aa2fcae29c16",
   "metadata": {
    "tags": []
   },
   "outputs": [],
   "source": [
    "class OS(electronics):\n",
    "    def andriod_mobile(self,company_name,model,screen_size):\n",
    "        self.screen_size = screen_size\n",
    "        super().mobile(company_name,model)\n",
    "        "
   ]
  },
  {
   "cell_type": "code",
   "execution_count": 25,
   "id": "4263330d-ab7b-4c06-8e34-b059dc7e3bb4",
   "metadata": {
    "tags": []
   },
   "outputs": [],
   "source": [
    "verizon = OS()"
   ]
  },
  {
   "cell_type": "code",
   "execution_count": 26,
   "id": "673055db-8422-40bb-ae3d-fd0b5a1c9226",
   "metadata": {
    "tags": []
   },
   "outputs": [],
   "source": [
    "verizon.andriod_mobile(\"samsung\",\"A70\",6.1)"
   ]
  },
  {
   "cell_type": "code",
   "execution_count": 27,
   "id": "cd2120c2-5c80-43f6-bb49-933c8e63f920",
   "metadata": {
    "tags": []
   },
   "outputs": [
    {
     "data": {
      "text/plain": [
       "6.1"
      ]
     },
     "execution_count": 27,
     "metadata": {},
     "output_type": "execute_result"
    }
   ],
   "source": [
    "verizon.screen_size"
   ]
  },
  {
   "cell_type": "code",
   "execution_count": 28,
   "id": "268f1f60-43f2-4bcc-9be5-b846cf58af67",
   "metadata": {
    "tags": []
   },
   "outputs": [
    {
     "name": "stdout",
     "output_type": "stream",
     "text": [
      "Most models are touch screen\n"
     ]
    }
   ],
   "source": [
    "verizon.touch_screen()"
   ]
  },
  {
   "cell_type": "markdown",
   "id": "46aeef2e-7dec-4f2b-88d8-fe1d9fb1752f",
   "metadata": {
    "tags": []
   },
   "source": []
  },
  {
   "cell_type": "markdown",
   "id": "d916ea72-8226-4c9c-83ca-fb52cf9c112b",
   "metadata": {},
   "source": [
    "<h> multiple Inheritance <h>"
   ]
  },
  {
   "cell_type": "code",
   "execution_count": 47,
   "id": "6e558543-c2b6-4309-ade4-dd3ce87da187",
   "metadata": {
    "tags": []
   },
   "outputs": [],
   "source": [
    "class Andriod():\n",
    "    def andriod_m(self,model):\n",
    "        self.model = model"
   ]
  },
  {
   "cell_type": "code",
   "execution_count": 48,
   "id": "ba569c39-eecf-403f-849f-3093449b7105",
   "metadata": {
    "tags": []
   },
   "outputs": [],
   "source": [
    "class ios():\n",
    "    def ios_mobile(self,screen_size):\n",
    "        self.screen_size = screen_size"
   ]
  },
  {
   "cell_type": "code",
   "execution_count": 49,
   "id": "2ed6109a-34ee-439a-92e8-4b3f33fc78a4",
   "metadata": {
    "tags": []
   },
   "outputs": [],
   "source": [
    "class os_mobile(Andriod,ios):\n",
    "    def company(self,name,model,screen_size):\n",
    "        super().andriod_mobile(model)\n",
    "        self.name = name\n",
    "    "
   ]
  },
  {
   "cell_type": "code",
   "execution_count": 50,
   "id": "90a35cc1-e4b4-4a6d-be4b-3e9e24c0de3c",
   "metadata": {
    "tags": []
   },
   "outputs": [],
   "source": [
    "att = os_mobile()"
   ]
  },
  {
   "cell_type": "code",
   "execution_count": 34,
   "id": "d58ccc9d-db12-4d2b-8bb1-948517902239",
   "metadata": {
    "tags": []
   },
   "outputs": [],
   "source": [
    "att.company(\"Apple\")"
   ]
  },
  {
   "cell_type": "code",
   "execution_count": 39,
   "id": "568e2948-95cf-4c51-95db-9b92637932ed",
   "metadata": {
    "tags": []
   },
   "outputs": [
    {
     "data": {
      "text/plain": [
       "'Apple'"
      ]
     },
     "execution_count": 39,
     "metadata": {},
     "output_type": "execute_result"
    }
   ],
   "source": [
    "att.name"
   ]
  },
  {
   "cell_type": "code",
   "execution_count": 52,
   "id": "4f68cc79-1828-444a-be7a-3e03b8f54c84",
   "metadata": {
    "tags": []
   },
   "outputs": [],
   "source": [
    "att.andriod_m(\"15max\")"
   ]
  },
  {
   "cell_type": "code",
   "execution_count": 53,
   "id": "61c78044-3fda-45a4-bdf3-82ee66e6ffca",
   "metadata": {
    "tags": []
   },
   "outputs": [
    {
     "data": {
      "text/plain": [
       "'15max'"
      ]
     },
     "execution_count": 53,
     "metadata": {},
     "output_type": "execute_result"
    }
   ],
   "source": [
    "att.model"
   ]
  },
  {
   "cell_type": "code",
   "execution_count": null,
   "id": "7f3640a2-5f15-476d-a377-909052e08353",
   "metadata": {},
   "outputs": [],
   "source": []
  },
  {
   "cell_type": "markdown",
   "id": "353d0e70-1dee-4506-a7ed-c7d7d2935c39",
   "metadata": {},
   "source": [
    "<h> multi level Inheritance <h>"
   ]
  },
  {
   "cell_type": "code",
   "execution_count": 70,
   "id": "00c2e38f-8690-49e8-9f87-a31dd902027c",
   "metadata": {
    "tags": []
   },
   "outputs": [],
   "source": [
    "class mobile():\n",
    "    def mobile_os(self,andriod_v,ios_v):\n",
    "        self.andriod_v = andriod_v\n",
    "        self.ios_v = ios_v"
   ]
  },
  {
   "cell_type": "code",
   "execution_count": 71,
   "id": "26caaf6c-f859-427c-9fc2-40158b50e349",
   "metadata": {
    "tags": []
   },
   "outputs": [],
   "source": [
    "class mobile_company(mobile):\n",
    "    def company_name(self,name,model):\n",
    "        self.name = name\n",
    "        self.model = model\n",
    "        "
   ]
  },
  {
   "cell_type": "code",
   "execution_count": 72,
   "id": "a5d121ae-f551-4315-aa23-4af3bf367f00",
   "metadata": {
    "tags": []
   },
   "outputs": [],
   "source": [
    "class carrier_company(mobile_company):\n",
    "    def carrier_name(self,c_name):\n",
    "        self.c_name = c_name"
   ]
  },
  {
   "cell_type": "code",
   "execution_count": 73,
   "id": "3b5dacb0-a779-4b16-88e3-9b5e1ae13862",
   "metadata": {
    "tags": []
   },
   "outputs": [],
   "source": [
    "tmobile = carrier_company()"
   ]
  },
  {
   "cell_type": "code",
   "execution_count": 74,
   "id": "616d95aa-79d4-41da-9dcd-4eaaf0d56a5e",
   "metadata": {
    "tags": []
   },
   "outputs": [],
   "source": [
    "tmobile.company_name(\"Apple\",\"15max\")"
   ]
  },
  {
   "cell_type": "code",
   "execution_count": 75,
   "id": "46984123-c705-40c1-824a-5def97a6950a",
   "metadata": {
    "tags": []
   },
   "outputs": [
    {
     "data": {
      "text/plain": [
       "'Apple'"
      ]
     },
     "execution_count": 75,
     "metadata": {},
     "output_type": "execute_result"
    }
   ],
   "source": [
    "tmobile.name"
   ]
  },
  {
   "cell_type": "code",
   "execution_count": 76,
   "id": "6e7a2f77-d518-474d-835d-36c303715af0",
   "metadata": {
    "tags": []
   },
   "outputs": [
    {
     "data": {
      "text/plain": [
       "'15max'"
      ]
     },
     "execution_count": 76,
     "metadata": {},
     "output_type": "execute_result"
    }
   ],
   "source": [
    "tmobile.model"
   ]
  },
  {
   "cell_type": "code",
   "execution_count": 77,
   "id": "4abe56bd-b32e-4dc3-b754-61fc78d681e9",
   "metadata": {
    "tags": []
   },
   "outputs": [],
   "source": [
    "tmobile.mobile_os(\"Adriod 14\", \"ios 17.3\")"
   ]
  },
  {
   "cell_type": "code",
   "execution_count": 78,
   "id": "5bca2ba9-ceae-46c5-b30c-a8515feae0f5",
   "metadata": {
    "tags": []
   },
   "outputs": [
    {
     "data": {
      "text/plain": [
       "'ios 17.3'"
      ]
     },
     "execution_count": 78,
     "metadata": {},
     "output_type": "execute_result"
    }
   ],
   "source": [
    "tmobile.ios_v"
   ]
  },
  {
   "cell_type": "code",
   "execution_count": null,
   "id": "15747ffa-33f2-438e-8b30-d107ebfbd494",
   "metadata": {},
   "outputs": [],
   "source": []
  },
  {
   "cell_type": "code",
   "execution_count": 81,
   "id": "b2bedf08-e280-4cc0-bd3a-2e40bc0ff259",
   "metadata": {
    "tags": []
   },
   "outputs": [],
   "source": [
    "class Person:\n",
    "  def __init__(self, fname, lname):\n",
    "    self.firstname = fname\n",
    "    self.lastname = lname\n",
    "\n",
    "  def printname(self):\n",
    "    print(self.firstname, self.lastname)"
   ]
  },
  {
   "cell_type": "code",
   "execution_count": 82,
   "id": "fffbff39-c091-4105-9c70-e3c5ce672309",
   "metadata": {
    "tags": []
   },
   "outputs": [
    {
     "name": "stdout",
     "output_type": "stream",
     "text": [
      "Venkat M\n"
     ]
    }
   ],
   "source": [
    "name = Person(\"Venkat\", \"M\")\n",
    "name.printname()\n"
   ]
  },
  {
   "cell_type": "code",
   "execution_count": 84,
   "id": "d9df9365-37f7-4fab-9296-c5753869ac25",
   "metadata": {
    "tags": []
   },
   "outputs": [],
   "source": [
    "class Student(Person):\n",
    "    pass"
   ]
  },
  {
   "cell_type": "code",
   "execution_count": 85,
   "id": "d7889d0f-c660-43f8-a8c2-b84f2ac04316",
   "metadata": {
    "tags": []
   },
   "outputs": [
    {
     "name": "stdout",
     "output_type": "stream",
     "text": [
      "Venkat M\n"
     ]
    }
   ],
   "source": [
    "name = Student(\"Venkat\", \"M\")\n",
    "name.printname()"
   ]
  },
  {
   "cell_type": "code",
   "execution_count": 87,
   "id": "201b19dc-d363-455b-9be5-29c46e6b57bb",
   "metadata": {
    "tags": []
   },
   "outputs": [],
   "source": [
    "class Student(Person):\n",
    "  def __init__(self, fname, lname):\n",
    "    pass"
   ]
  },
  {
   "cell_type": "code",
   "execution_count": 88,
   "id": "acd7458e-ce45-4753-b30a-0fcb705c696d",
   "metadata": {
    "tags": []
   },
   "outputs": [],
   "source": [
    "class Student(Person):\n",
    "  def __init__(self, fname, lname):\n",
    "    Person.__init__(self, fname, lname)"
   ]
  },
  {
   "cell_type": "code",
   "execution_count": 89,
   "id": "85f4a5d6-4582-418c-b478-9075ae44e8dc",
   "metadata": {
    "tags": []
   },
   "outputs": [],
   "source": [
    "name = Student(\"Ram\", \"Krish\")"
   ]
  },
  {
   "cell_type": "code",
   "execution_count": 90,
   "id": "8e7b0360-63cf-4f52-8a16-88e3969a94c3",
   "metadata": {
    "tags": []
   },
   "outputs": [
    {
     "data": {
      "text/plain": [
       "'Ram'"
      ]
     },
     "execution_count": 90,
     "metadata": {},
     "output_type": "execute_result"
    }
   ],
   "source": [
    "name.firstname"
   ]
  },
  {
   "cell_type": "code",
   "execution_count": 91,
   "id": "855b3e91-b041-48e9-8762-90ff8733c015",
   "metadata": {
    "tags": []
   },
   "outputs": [],
   "source": [
    "class Student(Person):\n",
    "  def __init__(self, fname, lname):\n",
    "    super().__init__(fname, lname)"
   ]
  },
  {
   "cell_type": "code",
   "execution_count": 92,
   "id": "6c3bc468-379f-4ba3-a1e9-4c47a079f294",
   "metadata": {
    "tags": []
   },
   "outputs": [],
   "source": [
    "name = Student(\"Ram\", \"Krish\")"
   ]
  },
  {
   "cell_type": "code",
   "execution_count": 93,
   "id": "19b7d839-8b04-4d74-b984-c07163c336f8",
   "metadata": {
    "tags": []
   },
   "outputs": [
    {
     "data": {
      "text/plain": [
       "'Krish'"
      ]
     },
     "execution_count": 93,
     "metadata": {},
     "output_type": "execute_result"
    }
   ],
   "source": [
    "name.lastname"
   ]
  },
  {
   "cell_type": "code",
   "execution_count": 94,
   "id": "bf6e2c28-577a-467d-b4cd-1c0a4b122ffe",
   "metadata": {
    "tags": []
   },
   "outputs": [],
   "source": [
    "class Student(Person):\n",
    "  def __init__(self, fname, lname, year):\n",
    "    super().__init__(fname, lname)\n",
    "    self.graduationyear = year\n",
    "\n",
    "  def welcome(self):\n",
    "    print(\"Welcome\", self.firstname, self.lastname, \"to the class of\", self.graduationyear)"
   ]
  },
  {
   "cell_type": "code",
   "execution_count": 95,
   "id": "7e589f05-dab0-4565-b182-f7ec22d92d0c",
   "metadata": {
    "tags": []
   },
   "outputs": [],
   "source": [
    "name = Student(\"Venkat\",\"Ma\",2024)"
   ]
  },
  {
   "cell_type": "code",
   "execution_count": 96,
   "id": "24a7daf8-a9cc-4dac-b15a-999bb9ea85c8",
   "metadata": {
    "tags": []
   },
   "outputs": [
    {
     "data": {
      "text/plain": [
       "2024"
      ]
     },
     "execution_count": 96,
     "metadata": {},
     "output_type": "execute_result"
    }
   ],
   "source": [
    "name.graduationyear"
   ]
  },
  {
   "cell_type": "code",
   "execution_count": null,
   "id": "6e6c44e5-b396-4bfd-8359-2d32b3aa81ed",
   "metadata": {},
   "outputs": [],
   "source": []
  }
 ],
 "metadata": {
  "kernelspec": {
   "display_name": "Python 3 (ipykernel)",
   "language": "python",
   "name": "python3"
  },
  "language_info": {
   "codemirror_mode": {
    "name": "ipython",
    "version": 3
   },
   "file_extension": ".py",
   "mimetype": "text/x-python",
   "name": "python",
   "nbconvert_exporter": "python",
   "pygments_lexer": "ipython3",
   "version": "3.11.5"
  }
 },
 "nbformat": 4,
 "nbformat_minor": 5
}
