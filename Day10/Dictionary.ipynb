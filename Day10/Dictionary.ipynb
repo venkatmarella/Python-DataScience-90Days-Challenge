{
 "cells": [
  {
   "cell_type": "markdown",
   "id": "c3d4dcf9-94b5-4f95-86cf-cbf242a90991",
   "metadata": {},
   "source": [
    "<h1>Dictionary<h1>"
   ]
  },
  {
   "cell_type": "code",
   "execution_count": 37,
   "id": "8dddbcce-fd82-46b9-b788-40a4a6bec738",
   "metadata": {
    "tags": []
   },
   "outputs": [],
   "source": [
    "cars = {\n",
    "  \"brand\": \"Ford\",\n",
    "  \"model\": \"Mustang\",\n",
    "  \"year\": 1964\n",
    "}"
   ]
  },
  {
   "cell_type": "code",
   "execution_count": 2,
   "id": "2ee71712-c7c9-45a9-8d8d-93116588bafc",
   "metadata": {
    "tags": []
   },
   "outputs": [
    {
     "data": {
      "text/plain": [
       "{'brand': 'Ford', 'model': 'Mustang', 'year': 1964}"
      ]
     },
     "execution_count": 2,
     "metadata": {},
     "output_type": "execute_result"
    }
   ],
   "source": [
    "cars"
   ]
  },
  {
   "cell_type": "code",
   "execution_count": 3,
   "id": "71401846-4adb-407c-a891-0c2afe3afa7e",
   "metadata": {
    "tags": []
   },
   "outputs": [
    {
     "data": {
      "text/plain": [
       "'Ford'"
      ]
     },
     "execution_count": 3,
     "metadata": {},
     "output_type": "execute_result"
    }
   ],
   "source": [
    "cars['brand']"
   ]
  },
  {
   "cell_type": "code",
   "execution_count": 4,
   "id": "b07a23f5-7a65-4d40-abac-257f03910f2f",
   "metadata": {
    "tags": []
   },
   "outputs": [
    {
     "data": {
      "text/plain": [
       "3"
      ]
     },
     "execution_count": 4,
     "metadata": {},
     "output_type": "execute_result"
    }
   ],
   "source": [
    "len(cars)"
   ]
  },
  {
   "cell_type": "code",
   "execution_count": 5,
   "id": "6ec02400-9beb-43bb-a869-9b610888d39c",
   "metadata": {
    "tags": []
   },
   "outputs": [
    {
     "data": {
      "text/plain": [
       "dict"
      ]
     },
     "execution_count": 5,
     "metadata": {},
     "output_type": "execute_result"
    }
   ],
   "source": [
    "type(cars)"
   ]
  },
  {
   "cell_type": "code",
   "execution_count": 6,
   "id": "e27e5b5a-5b0a-4e90-8448-469e1b169df8",
   "metadata": {
    "tags": []
   },
   "outputs": [],
   "source": [
    "person = dict(name = \"John\", age = 36, country = \"Norway\") # dict() constructor "
   ]
  },
  {
   "cell_type": "code",
   "execution_count": 7,
   "id": "c15213f9-8788-4447-9484-4914c3b3e5e2",
   "metadata": {
    "tags": []
   },
   "outputs": [
    {
     "data": {
      "text/plain": [
       "{'name': 'John', 'age': 36, 'country': 'Norway'}"
      ]
     },
     "execution_count": 7,
     "metadata": {},
     "output_type": "execute_result"
    }
   ],
   "source": [
    "person"
   ]
  },
  {
   "cell_type": "code",
   "execution_count": 8,
   "id": "2bbb744a-f9db-4d91-9de5-f664957a46af",
   "metadata": {
    "tags": []
   },
   "outputs": [
    {
     "data": {
      "text/plain": [
       "'Mustang'"
      ]
     },
     "execution_count": 8,
     "metadata": {},
     "output_type": "execute_result"
    }
   ],
   "source": [
    "cars[\"model\"]"
   ]
  },
  {
   "cell_type": "code",
   "execution_count": 9,
   "id": "eea04fda-bd2d-44a2-9446-9ad1bf45b92c",
   "metadata": {
    "tags": []
   },
   "outputs": [
    {
     "data": {
      "text/plain": [
       "dict_keys(['brand', 'model', 'year'])"
      ]
     },
     "execution_count": 9,
     "metadata": {},
     "output_type": "execute_result"
    }
   ],
   "source": [
    "cars.keys()"
   ]
  },
  {
   "cell_type": "code",
   "execution_count": 10,
   "id": "7b5648ac-dad8-40ad-a917-3352b45916c7",
   "metadata": {
    "tags": []
   },
   "outputs": [
    {
     "data": {
      "text/plain": [
       "dict_values(['Ford', 'Mustang', 1964])"
      ]
     },
     "execution_count": 10,
     "metadata": {},
     "output_type": "execute_result"
    }
   ],
   "source": [
    "cars.values()"
   ]
  },
  {
   "cell_type": "code",
   "execution_count": 23,
   "id": "5523fc6b-0ef4-4716-b373-38fddf7397ea",
   "metadata": {
    "tags": []
   },
   "outputs": [],
   "source": [
    "cars[\"color\"] = \"Red\""
   ]
  },
  {
   "cell_type": "code",
   "execution_count": 12,
   "id": "6479d074-0c24-423f-b190-c93d9c7df774",
   "metadata": {
    "tags": []
   },
   "outputs": [
    {
     "data": {
      "text/plain": [
       "{'brand': 'Ford', 'model': 'Mustang', 'year': 1964, 'color': 'Red'}"
      ]
     },
     "execution_count": 12,
     "metadata": {},
     "output_type": "execute_result"
    }
   ],
   "source": [
    "cars"
   ]
  },
  {
   "cell_type": "code",
   "execution_count": 13,
   "id": "1f7f2bd9-fce7-4eed-b79e-09a022069f38",
   "metadata": {
    "tags": []
   },
   "outputs": [],
   "source": [
    "cars[\"year\"] = 2020"
   ]
  },
  {
   "cell_type": "code",
   "execution_count": 14,
   "id": "ace7be63-087c-4386-89b9-5a630f3b5f36",
   "metadata": {
    "tags": []
   },
   "outputs": [
    {
     "data": {
      "text/plain": [
       "{'brand': 'Ford', 'model': 'Mustang', 'year': 2020, 'color': 'Red'}"
      ]
     },
     "execution_count": 14,
     "metadata": {},
     "output_type": "execute_result"
    }
   ],
   "source": [
    "cars"
   ]
  },
  {
   "cell_type": "code",
   "execution_count": 15,
   "id": "e18cc4b8-931d-442f-922e-b2a04a459e38",
   "metadata": {
    "tags": []
   },
   "outputs": [
    {
     "data": {
      "text/plain": [
       "dict_items([('brand', 'Ford'), ('model', 'Mustang'), ('year', 2020), ('color', 'Red')])"
      ]
     },
     "execution_count": 15,
     "metadata": {},
     "output_type": "execute_result"
    }
   ],
   "source": [
    "cars.items()"
   ]
  },
  {
   "cell_type": "code",
   "execution_count": 17,
   "id": "30b5ead4-2542-4841-9904-7288147b1bb3",
   "metadata": {
    "tags": []
   },
   "outputs": [],
   "source": [
    "cars.update({\"year\": 2024})"
   ]
  },
  {
   "cell_type": "code",
   "execution_count": 18,
   "id": "73adb041-b1f8-4d95-8edc-dd1204e0d1e1",
   "metadata": {
    "tags": []
   },
   "outputs": [
    {
     "name": "stdout",
     "output_type": "stream",
     "text": [
      "{'brand': 'Ford', 'model': 'Mustang', 'year': 2024, 'color': 'Red'}\n"
     ]
    }
   ],
   "source": [
    "print(cars)"
   ]
  },
  {
   "cell_type": "code",
   "execution_count": 19,
   "id": "51ab019b-5554-48c2-ab21-7acb49f2778a",
   "metadata": {
    "tags": []
   },
   "outputs": [
    {
     "data": {
      "text/plain": [
       "{'brand': 'Ford', 'model': 'Mustang', 'year': 2024, 'color': 'Red'}"
      ]
     },
     "execution_count": 19,
     "metadata": {},
     "output_type": "execute_result"
    }
   ],
   "source": [
    "cars"
   ]
  },
  {
   "cell_type": "code",
   "execution_count": 20,
   "id": "a2c37c98-3bdd-4757-96db-676526fb54bf",
   "metadata": {
    "tags": []
   },
   "outputs": [
    {
     "data": {
      "text/plain": [
       "'Mustang'"
      ]
     },
     "execution_count": 20,
     "metadata": {},
     "output_type": "execute_result"
    }
   ],
   "source": [
    "cars.pop(\"model\")"
   ]
  },
  {
   "cell_type": "code",
   "execution_count": 21,
   "id": "c7cfca70-b3dd-4416-8515-c0d02a0e5e1a",
   "metadata": {
    "tags": []
   },
   "outputs": [
    {
     "data": {
      "text/plain": [
       "{'brand': 'Ford', 'year': 2024, 'color': 'Red'}"
      ]
     },
     "execution_count": 21,
     "metadata": {},
     "output_type": "execute_result"
    }
   ],
   "source": [
    "cars"
   ]
  },
  {
   "cell_type": "code",
   "execution_count": 24,
   "id": "21fcc403-f9c9-4309-a9cb-88d1e29ddac7",
   "metadata": {
    "tags": []
   },
   "outputs": [
    {
     "data": {
      "text/plain": [
       "{'brand': 'Ford', 'model': 'Mustang', 'year': 1964, 'color': 'Red'}"
      ]
     },
     "execution_count": 24,
     "metadata": {},
     "output_type": "execute_result"
    }
   ],
   "source": [
    "cars"
   ]
  },
  {
   "cell_type": "code",
   "execution_count": 25,
   "id": "2e1db677-4d13-491c-a722-8a65ac9ef57f",
   "metadata": {
    "tags": []
   },
   "outputs": [
    {
     "data": {
      "text/plain": [
       "('color', 'Red')"
      ]
     },
     "execution_count": 25,
     "metadata": {},
     "output_type": "execute_result"
    }
   ],
   "source": [
    "cars.popitem()"
   ]
  },
  {
   "cell_type": "code",
   "execution_count": 27,
   "id": "02e64b86-4be4-4881-a018-1f5d2d3386c3",
   "metadata": {
    "tags": []
   },
   "outputs": [],
   "source": [
    "del cars[\"model\"]"
   ]
  },
  {
   "cell_type": "code",
   "execution_count": 28,
   "id": "1960ea4f-3f6c-4e1a-88f1-1cd516ec27ca",
   "metadata": {
    "tags": []
   },
   "outputs": [
    {
     "data": {
      "text/plain": [
       "{'brand': 'Ford', 'year': 1964}"
      ]
     },
     "execution_count": 28,
     "metadata": {},
     "output_type": "execute_result"
    }
   ],
   "source": [
    "cars"
   ]
  },
  {
   "cell_type": "code",
   "execution_count": 29,
   "id": "83cbb9ed-1091-44e7-923d-e6c8587bafa5",
   "metadata": {
    "tags": []
   },
   "outputs": [],
   "source": [
    "del cars"
   ]
  },
  {
   "cell_type": "code",
   "execution_count": 30,
   "id": "9b9f6e19-a1ed-45f1-9d11-41e95893c111",
   "metadata": {
    "tags": []
   },
   "outputs": [
    {
     "ename": "NameError",
     "evalue": "name 'cars' is not defined",
     "output_type": "error",
     "traceback": [
      "\u001b[0;31m---------------------------------------------------------------------------\u001b[0m",
      "\u001b[0;31mNameError\u001b[0m                                 Traceback (most recent call last)",
      "Cell \u001b[0;32mIn[30], line 1\u001b[0m\n\u001b[0;32m----> 1\u001b[0m cars\n",
      "\u001b[0;31mNameError\u001b[0m: name 'cars' is not defined"
     ]
    }
   ],
   "source": [
    "cars"
   ]
  },
  {
   "cell_type": "code",
   "execution_count": 32,
   "id": "fa2aa339-713f-48ce-a193-2ea6fd2bd2ec",
   "metadata": {
    "tags": []
   },
   "outputs": [
    {
     "data": {
      "text/plain": [
       "{'brand': 'Ford', 'model': 'Mustang', 'year': 1964}"
      ]
     },
     "execution_count": 32,
     "metadata": {},
     "output_type": "execute_result"
    }
   ],
   "source": [
    "cars"
   ]
  },
  {
   "cell_type": "code",
   "execution_count": 33,
   "id": "d7316dfc-88cc-42f0-bf92-e7e7c4ad3cd1",
   "metadata": {
    "tags": []
   },
   "outputs": [],
   "source": [
    "cars.clear()"
   ]
  },
  {
   "cell_type": "code",
   "execution_count": 34,
   "id": "ad02548b-b94c-4ed0-a036-a8b21bc59ef0",
   "metadata": {
    "tags": []
   },
   "outputs": [
    {
     "data": {
      "text/plain": [
       "{}"
      ]
     },
     "execution_count": 34,
     "metadata": {},
     "output_type": "execute_result"
    }
   ],
   "source": [
    "cars"
   ]
  },
  {
   "cell_type": "code",
   "execution_count": 38,
   "id": "c11f77c0-69f8-4baa-9383-f6e8fec32b62",
   "metadata": {
    "tags": []
   },
   "outputs": [
    {
     "name": "stdout",
     "output_type": "stream",
     "text": [
      "brand\n",
      "model\n",
      "year\n"
     ]
    }
   ],
   "source": [
    "for x in cars: # print all key name in dict\n",
    "    print(x)"
   ]
  },
  {
   "cell_type": "code",
   "execution_count": 39,
   "id": "d506d17c-b014-44f1-943c-74d44201148a",
   "metadata": {
    "tags": []
   },
   "outputs": [
    {
     "name": "stdout",
     "output_type": "stream",
     "text": [
      "Ford\n",
      "Mustang\n",
      "1964\n"
     ]
    }
   ],
   "source": [
    "for x in cars: # print all values in dict\n",
    "    print(cars[x])"
   ]
  },
  {
   "cell_type": "code",
   "execution_count": 40,
   "id": "131659ef-91e0-4de8-a870-7bcfaf44e25c",
   "metadata": {
    "tags": []
   },
   "outputs": [
    {
     "name": "stdout",
     "output_type": "stream",
     "text": [
      "Ford\n",
      "Mustang\n",
      "1964\n"
     ]
    }
   ],
   "source": [
    "for x in cars.values():\n",
    "    print(x)"
   ]
  },
  {
   "cell_type": "code",
   "execution_count": 41,
   "id": "8d035578-869c-41c5-8380-5a0162679161",
   "metadata": {
    "tags": []
   },
   "outputs": [
    {
     "name": "stdout",
     "output_type": "stream",
     "text": [
      "brand\n",
      "model\n",
      "year\n"
     ]
    }
   ],
   "source": [
    "for x in cars.keys():\n",
    "    print(x)"
   ]
  },
  {
   "cell_type": "code",
   "execution_count": 42,
   "id": "60b2d390-20e1-4de5-aa66-b668d43d784f",
   "metadata": {
    "tags": []
   },
   "outputs": [
    {
     "name": "stdout",
     "output_type": "stream",
     "text": [
      "brand Ford\n",
      "model Mustang\n",
      "year 1964\n"
     ]
    }
   ],
   "source": [
    "for x,y in cars.items():\n",
    "    print(x,y)"
   ]
  },
  {
   "cell_type": "code",
   "execution_count": null,
   "id": "233efb73-ed6c-4ee8-a85b-63d01ff15a1f",
   "metadata": {},
   "outputs": [],
   "source": []
  },
  {
   "cell_type": "markdown",
   "id": "3082a2c7-d2f2-4843-9142-1904484d6149",
   "metadata": {},
   "source": [
    "<h>copy dict<h>"
   ]
  },
  {
   "cell_type": "code",
   "execution_count": 43,
   "id": "041ee11c-eecc-4e91-9d8b-8c7fa2a817ac",
   "metadata": {
    "tags": []
   },
   "outputs": [],
   "source": [
    "new_cars = cars.copy()"
   ]
  },
  {
   "cell_type": "code",
   "execution_count": 44,
   "id": "1abea58a-d9f8-4622-8e95-2f04c3780542",
   "metadata": {
    "tags": []
   },
   "outputs": [
    {
     "data": {
      "text/plain": [
       "{'brand': 'Ford', 'model': 'Mustang', 'year': 1964}"
      ]
     },
     "execution_count": 44,
     "metadata": {},
     "output_type": "execute_result"
    }
   ],
   "source": [
    "new_cars"
   ]
  },
  {
   "cell_type": "code",
   "execution_count": 45,
   "id": "2d4cf23c-8cc9-4735-bef9-c0d719b5a2d2",
   "metadata": {
    "tags": []
   },
   "outputs": [
    {
     "data": {
      "text/plain": [
       "{'brand': 'Ford', 'model': 'Mustang', 'year': 1964}"
      ]
     },
     "execution_count": 45,
     "metadata": {},
     "output_type": "execute_result"
    }
   ],
   "source": [
    "new1_cars = dict(cars)\n",
    "new1_cars"
   ]
  },
  {
   "cell_type": "code",
   "execution_count": null,
   "id": "42a9741d-d1c2-474b-b990-d4dbd2d922c3",
   "metadata": {},
   "outputs": [],
   "source": []
  },
  {
   "cell_type": "markdown",
   "id": "d21976e3-1b14-479b-bbf5-31759314e211",
   "metadata": {},
   "source": [
    "<h>nested dict<h>"
   ]
  },
  {
   "cell_type": "code",
   "execution_count": 53,
   "id": "eacce019-41d7-451f-9112-230d3cde99e9",
   "metadata": {
    "tags": []
   },
   "outputs": [],
   "source": [
    "nest_cars = {\n",
    "    \"car1\": {\n",
    "    \"name\": \"Ford\",\n",
    "    \"model\": \"mustang\",\n",
    "    \"year\": 2024\n",
    "},\n",
    "    \"car2\": {\n",
    "    \"name\": \"Tesla\",\n",
    "    \"model\": \"Model Y\",\n",
    "    \"year\": 2021\n",
    "},\n",
    "    \"car3\": {\n",
    "    \"name\": \"Fisker\",\n",
    "    \"model\": \"Ocean\",\n",
    "    \"year\": 2023\n",
    "}\n",
    "}"
   ]
  },
  {
   "cell_type": "code",
   "execution_count": 54,
   "id": "d147dc93-278e-49b4-af32-d3b3dad77c10",
   "metadata": {
    "tags": []
   },
   "outputs": [
    {
     "data": {
      "text/plain": [
       "{'car1': {'name': 'Ford', 'model': 'mustang', 'year': 2024},\n",
       " 'car2': {'name': 'Tesla', 'model': 'Model Y', 'year': 2021},\n",
       " 'car3': {'name': 'Fisker', 'model': 'Ocean', 'year': 2023}}"
      ]
     },
     "execution_count": 54,
     "metadata": {},
     "output_type": "execute_result"
    }
   ],
   "source": [
    "nest_cars"
   ]
  },
  {
   "cell_type": "code",
   "execution_count": null,
   "id": "38a0bf87-0b6d-4c24-97b8-979bf5f3abca",
   "metadata": {},
   "outputs": [],
   "source": []
  }
 ],
 "metadata": {
  "kernelspec": {
   "display_name": "Python 3 (ipykernel)",
   "language": "python",
   "name": "python3"
  },
  "language_info": {
   "codemirror_mode": {
    "name": "ipython",
    "version": 3
   },
   "file_extension": ".py",
   "mimetype": "text/x-python",
   "name": "python",
   "nbconvert_exporter": "python",
   "pygments_lexer": "ipython3",
   "version": "3.11.5"
  }
 },
 "nbformat": 4,
 "nbformat_minor": 5
}
