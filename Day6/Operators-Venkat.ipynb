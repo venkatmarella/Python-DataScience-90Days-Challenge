{
 "cells": [
  {
   "cell_type": "markdown",
   "id": "f15d26e9-5117-463f-b04c-81302b921866",
   "metadata": {},
   "source": [
    "<h1>Operators<h1>\n",
    "<h2>Arithmetic :</h2>"
   ]
  },
  {
   "cell_type": "code",
   "execution_count": 6,
   "id": "09f3b423-cff6-4954-a86c-5d078dd7ae0e",
   "metadata": {},
   "outputs": [
    {
     "name": "stdout",
     "output_type": "stream",
     "text": [
      "19.5\n"
     ]
    }
   ],
   "source": [
    "x=10\n",
    "y=9.5\n",
    "print(x+y) # Addition"
   ]
  },
  {
   "cell_type": "code",
   "execution_count": 7,
   "id": "4245322f-a2d2-4336-8b7c-5c8c1c69c76e",
   "metadata": {},
   "outputs": [
    {
     "name": "stdout",
     "output_type": "stream",
     "text": [
      "1.0526315789473684\n"
     ]
    }
   ],
   "source": [
    "print(x/y) # Division"
   ]
  },
  {
   "cell_type": "code",
   "execution_count": 8,
   "id": "52f8d3ce-21d8-4322-8b96-6264f1e0fa20",
   "metadata": {},
   "outputs": [
    {
     "name": "stdout",
     "output_type": "stream",
     "text": [
      "95.0\n"
     ]
    }
   ],
   "source": [
    "print(x*y) # Multiplication"
   ]
  },
  {
   "cell_type": "code",
   "execution_count": 9,
   "id": "a291a013-3e11-488f-a1e7-dfb00fb52599",
   "metadata": {},
   "outputs": [
    {
     "name": "stdout",
     "output_type": "stream",
     "text": [
      "0.5\n"
     ]
    }
   ],
   "source": [
    "print(x-y) # Subtraction"
   ]
  },
  {
   "cell_type": "code",
   "execution_count": 10,
   "id": "91f5a4af-30dd-412f-974e-e436557f0e1e",
   "metadata": {},
   "outputs": [
    {
     "name": "stdout",
     "output_type": "stream",
     "text": [
      "3162277660.1683793\n"
     ]
    }
   ],
   "source": [
    "print(x ** y) # Exponentiation"
   ]
  },
  {
   "cell_type": "code",
   "execution_count": 11,
   "id": "47590c52-98ec-4137-9ba9-4bc87fec7bad",
   "metadata": {},
   "outputs": [
    {
     "name": "stdout",
     "output_type": "stream",
     "text": [
      "1.0\n"
     ]
    }
   ],
   "source": [
    "print(x//y) # Floor Division"
   ]
  },
  {
   "cell_type": "code",
   "execution_count": 12,
   "id": "5cf1ec68-c747-47fd-84df-9287d6985403",
   "metadata": {},
   "outputs": [
    {
     "name": "stdout",
     "output_type": "stream",
     "text": [
      "0.5\n"
     ]
    }
   ],
   "source": [
    "print(x%y) # Modulus"
   ]
  },
  {
   "cell_type": "markdown",
   "id": "46f8dff7-d4a8-4627-a4c7-be19a83b2b7f",
   "metadata": {},
   "source": [
    "<h3>Comparision Operator:</h3>"
   ]
  },
  {
   "cell_type": "code",
   "execution_count": 13,
   "id": "b4fb01aa-5119-42c5-8499-b9edef9f38ec",
   "metadata": {},
   "outputs": [
    {
     "data": {
      "text/plain": [
       "False"
      ]
     },
     "execution_count": 13,
     "metadata": {},
     "output_type": "execute_result"
    }
   ],
   "source": [
    "x == y # Equal"
   ]
  },
  {
   "cell_type": "code",
   "execution_count": 14,
   "id": "d37385a9-aa16-4a13-82f1-0a99406a6ab4",
   "metadata": {},
   "outputs": [
    {
     "data": {
      "text/plain": [
       "True"
      ]
     },
     "execution_count": 14,
     "metadata": {},
     "output_type": "execute_result"
    }
   ],
   "source": [
    "x != y # not Equal"
   ]
  },
  {
   "cell_type": "code",
   "execution_count": 15,
   "id": "e114cd63-c3b7-4fd4-b09a-7e6ad91fe58e",
   "metadata": {},
   "outputs": [
    {
     "data": {
      "text/plain": [
       "True"
      ]
     },
     "execution_count": 15,
     "metadata": {},
     "output_type": "execute_result"
    }
   ],
   "source": [
    "x > y # greaterthan"
   ]
  },
  {
   "cell_type": "code",
   "execution_count": 16,
   "id": "acc3ab6f-7744-44f0-a2ab-535fe619ea9a",
   "metadata": {},
   "outputs": [
    {
     "data": {
      "text/plain": [
       "False"
      ]
     },
     "execution_count": 16,
     "metadata": {},
     "output_type": "execute_result"
    }
   ],
   "source": [
    "x < y  #lessthan"
   ]
  },
  {
   "cell_type": "code",
   "execution_count": 17,
   "id": "f4dd5fa1-bd75-496c-b4f7-90c4394d65dd",
   "metadata": {},
   "outputs": [
    {
     "data": {
      "text/plain": [
       "True"
      ]
     },
     "execution_count": 17,
     "metadata": {},
     "output_type": "execute_result"
    }
   ],
   "source": [
    "x >= y # greaterthan or equal"
   ]
  },
  {
   "cell_type": "code",
   "execution_count": 18,
   "id": "222a7856-59ea-414f-915e-45fd6e39a3de",
   "metadata": {},
   "outputs": [
    {
     "data": {
      "text/plain": [
       "False"
      ]
     },
     "execution_count": 18,
     "metadata": {},
     "output_type": "execute_result"
    }
   ],
   "source": [
    "x <= y # lessthan or equal"
   ]
  },
  {
   "cell_type": "code",
   "execution_count": null,
   "id": "c6420c61-9719-471c-a3de-08b571dc97e2",
   "metadata": {},
   "outputs": [],
   "source": [
    "\n"
   ]
  },
  {
   "cell_type": "markdown",
   "id": "277b01a5-bf11-428e-8c02-77c6fe373175",
   "metadata": {},
   "source": [
    "<h1>Logical Operator</h1>"
   ]
  },
  {
   "cell_type": "code",
   "execution_count": 20,
   "id": "0328b0c4-db86-46fb-b53d-71334e6ac278",
   "metadata": {},
   "outputs": [],
   "source": [
    "a=10\n",
    "b=20"
   ]
  },
  {
   "cell_type": "code",
   "execution_count": 22,
   "id": "b3209cda-3a4f-4836-b3b7-4293ec80eb29",
   "metadata": {},
   "outputs": [
    {
     "data": {
      "text/plain": [
       "True"
      ]
     },
     "execution_count": 22,
     "metadata": {},
     "output_type": "execute_result"
    }
   ],
   "source": [
    "a==10 and b==20"
   ]
  },
  {
   "cell_type": "code",
   "execution_count": 23,
   "id": "9a41bb7d-d631-4909-9ca5-a762c559baa5",
   "metadata": {},
   "outputs": [
    {
     "data": {
      "text/plain": [
       "False"
      ]
     },
     "execution_count": 23,
     "metadata": {},
     "output_type": "execute_result"
    }
   ],
   "source": [
    "a==20 and b==20"
   ]
  },
  {
   "cell_type": "code",
   "execution_count": 24,
   "id": "53b5f7bf-d947-4941-8438-c6acbfeff51b",
   "metadata": {},
   "outputs": [
    {
     "data": {
      "text/plain": [
       "True"
      ]
     },
     "execution_count": 24,
     "metadata": {},
     "output_type": "execute_result"
    }
   ],
   "source": [
    "not(False)"
   ]
  },
  {
   "cell_type": "code",
   "execution_count": 25,
   "id": "184b427f-b905-49c7-bd76-7ae0bdbdcfe0",
   "metadata": {},
   "outputs": [
    {
     "data": {
      "text/plain": [
       "True"
      ]
     },
     "execution_count": 25,
     "metadata": {},
     "output_type": "execute_result"
    }
   ],
   "source": [
    "a==20 or b==20"
   ]
  },
  {
   "cell_type": "code",
   "execution_count": 26,
   "id": "dca20410-392f-477e-8dce-bc7d036fdd9e",
   "metadata": {},
   "outputs": [
    {
     "data": {
      "text/plain": [
       "True"
      ]
     },
     "execution_count": 26,
     "metadata": {},
     "output_type": "execute_result"
    }
   ],
   "source": [
    "a is not b"
   ]
  },
  {
   "cell_type": "code",
   "execution_count": null,
   "id": "cbc27a94-a18f-4b14-b3fe-707f00cde307",
   "metadata": {},
   "outputs": [],
   "source": []
  }
 ],
 "metadata": {
  "kernelspec": {
   "display_name": "Python 3 (ipykernel)",
   "language": "python",
   "name": "python3"
  },
  "language_info": {
   "codemirror_mode": {
    "name": "ipython",
    "version": 3
   },
   "file_extension": ".py",
   "mimetype": "text/x-python",
   "name": "python",
   "nbconvert_exporter": "python",
   "pygments_lexer": "ipython3",
   "version": "3.11.7"
  }
 },
 "nbformat": 4,
 "nbformat_minor": 5
}
