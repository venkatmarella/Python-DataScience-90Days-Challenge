{
 "cells": [
  {
   "cell_type": "code",
   "execution_count": 1,
   "id": "fce3e94d-f7ac-4731-a3d3-4aa65c47a9fb",
   "metadata": {
    "tags": []
   },
   "outputs": [
    {
     "name": "stdin",
     "output_type": "stream",
     "text": [
      "Enter your savings: 200000\n"
     ]
    },
    {
     "name": "stdout",
     "output_type": "stream",
     "text": [
      "Your income is: 200000\n"
     ]
    },
    {
     "name": "stdin",
     "output_type": "stream",
     "text": [
      "Enter your savings: 2220000\n"
     ]
    },
    {
     "name": "stdout",
     "output_type": "stream",
     "text": [
      "Your income is: 2420000\n",
      "You have sufficent money to buy a car\n"
     ]
    }
   ],
   "source": [
    "total_savings = 0\n",
    "\n",
    "while total_savings<2000000:\n",
    "    savings = int(input(\"Enter your savings:\"))\n",
    "    total_savings = total_savings+savings\n",
    "    print(\"Your income is:\",total_savings)\n",
    "    \n",
    "print(\"You have sufficent money to buy a car\")"
   ]
  },
  {
   "cell_type": "code",
   "execution_count": 3,
   "id": "35a418b1-8711-4da0-b6f9-e1826517dc12",
   "metadata": {
    "tags": []
   },
   "outputs": [
    {
     "name": "stdin",
     "output_type": "stream",
     "text": [
      "enter your table number: 5\n"
     ]
    },
    {
     "name": "stdout",
     "output_type": "stream",
     "text": [
      "5 X 1 = 5\n",
      "5 X 2 = 10\n",
      "5 X 3 = 15\n",
      "5 X 4 = 20\n",
      "5 X 5 = 25\n",
      "5 X 6 = 30\n",
      "5 X 7 = 35\n",
      "5 X 8 = 40\n",
      "5 X 9 = 45\n",
      "5 X 10 = 50\n",
      "5 X 11 = 55\n",
      "5 X 12 = 60\n",
      "5 X 13 = 65\n",
      "5 X 14 = 70\n",
      "5 X 15 = 75\n",
      "5 X 16 = 80\n",
      "5 X 17 = 85\n",
      "5 X 18 = 90\n",
      "5 X 19 = 95\n",
      "5 X 20 = 100\n"
     ]
    }
   ],
   "source": [
    "num = int(input(\"enter your table number:\"))\n",
    "i=0\n",
    "while i <20:\n",
    "    i = i+1\n",
    "    print(num,\"X\",i,\"=\",num*i)"
   ]
  },
  {
   "cell_type": "code",
   "execution_count": 4,
   "id": "e79441c7-157c-49f6-a5bd-31784d493485",
   "metadata": {
    "tags": []
   },
   "outputs": [
    {
     "name": "stdout",
     "output_type": "stream",
     "text": [
      "0\n",
      "1\n",
      "2\n",
      "3\n",
      "4\n",
      "Breaking\n",
      "Finished\n"
     ]
    }
   ],
   "source": [
    "i = 0\n",
    "while True:\n",
    "  print(i)\n",
    "  i = i + 1\n",
    "  if i >= 5:\n",
    "    print(\"Breaking\")\n",
    "    break\n",
    "\n",
    "print(\"Finished\")"
   ]
  },
  {
   "cell_type": "code",
   "execution_count": 5,
   "id": "3a5367f2-fe94-4d34-a724-a8230a025e0f",
   "metadata": {
    "tags": []
   },
   "outputs": [
    {
     "name": "stdout",
     "output_type": "stream",
     "text": [
      "1\n",
      "2\n",
      "Skipping 3\n",
      "4\n",
      "5\n"
     ]
    }
   ],
   "source": [
    "i = 0\n",
    "while i<5:\n",
    "  i += 1\n",
    "  if i==3:\n",
    "    print(\"Skipping 3\")\n",
    "    continue\n",
    "  print(i)"
   ]
  },
  {
   "cell_type": "code",
   "execution_count": 6,
   "id": "4d522e91-8327-451c-ba97-eb8b7113d6a3",
   "metadata": {
    "tags": []
   },
   "outputs": [
    {
     "name": "stdout",
     "output_type": "stream",
     "text": [
      "200\n",
      "190\n",
      "180\n",
      "170\n",
      "160\n",
      "150\n",
      "140\n",
      "130\n"
     ]
    }
   ],
   "source": [
    "x =200\n",
    "while x>120:\n",
    "    print(x)\n",
    "    x = x-10"
   ]
  },
  {
   "cell_type": "code",
   "execution_count": 7,
   "id": "31434947-4472-45a5-a835-de1717b81192",
   "metadata": {
    "tags": []
   },
   "outputs": [
    {
     "name": "stdout",
     "output_type": "stream",
     "text": [
      "0\n",
      "new total 5\n",
      "5\n",
      "new total 6\n",
      "6\n",
      "new total 8\n",
      "8\n",
      "new total 14\n",
      "14\n",
      "new total 16\n",
      "16\n",
      "new total 19\n",
      "19\n",
      "new total 23\n",
      "try again\n"
     ]
    }
   ],
   "source": [
    "#super 20\n",
    "import random\n",
    "list1 = [1, 2, 3, 4, 5, 6]\n",
    "total = 0\n",
    "\n",
    "while total<20:\n",
    "    dice = random.choice(list1)\n",
    "    print(total)\n",
    "    total += dice #similar to--total = total+dice\n",
    "    print(\"new total\",total)\n",
    "else:\n",
    "    if total==20:\n",
    "        print(\"Congratulations\")\n",
    "    else:\n",
    "        print(\"try again\")"
   ]
  },
  {
   "cell_type": "code",
   "execution_count": null,
   "id": "75054e29-83c9-427d-91cb-d41de720426f",
   "metadata": {},
   "outputs": [],
   "source": []
  }
 ],
 "metadata": {
  "kernelspec": {
   "display_name": "Python 3 (ipykernel)",
   "language": "python",
   "name": "python3"
  },
  "language_info": {
   "codemirror_mode": {
    "name": "ipython",
    "version": 3
   },
   "file_extension": ".py",
   "mimetype": "text/x-python",
   "name": "python",
   "nbconvert_exporter": "python",
   "pygments_lexer": "ipython3",
   "version": "3.11.5"
  }
 },
 "nbformat": 4,
 "nbformat_minor": 5
}
